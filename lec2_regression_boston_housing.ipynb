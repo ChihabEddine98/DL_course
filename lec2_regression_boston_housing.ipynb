{
  "nbformat": 4,
  "nbformat_minor": 0,
  "metadata": {
    "colab": {
      "name": "lec2_regression_boston_housing.ipynb",
      "provenance": [],
      "collapsed_sections": [],
      "authorship_tag": "ABX9TyOc7mN+dU0I7lolc4kL7qqv",
      "include_colab_link": true
    },
    "kernelspec": {
      "name": "python3",
      "display_name": "Python 3"
    },
    "language_info": {
      "name": "python"
    },
    "accelerator": "GPU"
  },
  "cells": [
    {
      "cell_type": "markdown",
      "metadata": {
        "id": "view-in-github",
        "colab_type": "text"
      },
      "source": [
        "<a href=\"https://colab.research.google.com/github/ChihabEddine98/DL_course/blob/main/lec2_regression_boston_housing.ipynb\" target=\"_parent\"><img src=\"https://colab.research.google.com/assets/colab-badge.svg\" alt=\"Open In Colab\"/></a>"
      ]
    },
    {
      "cell_type": "code",
      "metadata": {
        "id": "spGXIpTQrVBA"
      },
      "source": [
        "# imports \n",
        "import tensorflow as tf\n",
        "from tensorflow.keras.datasets import boston_housing\n",
        "from sklearn.model_selection import train_test_split\n",
        "from sklearn.preprocessing import StandardScaler\n",
        "from tensorflow.keras import Sequential\n",
        "from tensorflow.keras.layers import Dense,Activation,Dropout\n",
        "import matplotlib.pyplot as plt\n",
        "import pandas as pd\n",
        "# end imports"
      ],
      "execution_count": 1,
      "outputs": []
    },
    {
      "cell_type": "code",
      "metadata": {
        "id": "eSSmTvTzrmTU"
      },
      "source": [
        "(train_data, train_targets), (test_data, test_targets) = boston_housing.load_data()"
      ],
      "execution_count": 2,
      "outputs": []
    },
    {
      "cell_type": "code",
      "metadata": {
        "id": "PZSAQLFrr4kL"
      },
      "source": [
        "train_data,val_data,train_targets,val_targets = train_test_split(train_data,train_targets,test_size = 0.2) \n",
        "s_scaler = StandardScaler()\n",
        "train_data = s_scaler.fit_transform(train_data)\n",
        "val_data = s_scaler.fit_transform(val_data)\n",
        "test_data = s_scaler.fit_transform(test_data)\n"
      ],
      "execution_count": 3,
      "outputs": []
    },
    {
      "cell_type": "code",
      "metadata": {
        "id": "md4PB8dvr7bi"
      },
      "source": [
        "def HPREG(train_data):\n",
        "  model = Sequential(Dense(64 , activation='relu' , input_dim = train_data.shape[1])) # Input Layer\n",
        "  model.add(Dense(64 , activation='relu'))\n",
        "  model.add(Dense(32,activation='relu'))\n",
        "  model.add(Dense(16,activation='relu'))\n",
        "  model.add(Dense(1 , activation='relu')) # Output Layer\n",
        "\n",
        "  # Compile the model \n",
        "  model.compile(optimizer = 'adam' , loss= 'mse', metrics = ['mse','mape'])\n",
        "  print(model.summary())\n",
        "  return model"
      ],
      "execution_count": 4,
      "outputs": []
    },
    {
      "cell_type": "code",
      "metadata": {
        "id": "RwedCH5ayB71"
      },
      "source": [
        "def train(model,train_data,train_targets,val_data,val_targets):\n",
        "    with tf.device('/device:GPU:0'):\n",
        "      history = model.fit(train_data,train_targets , epochs = 30, batch_size = 1 , verbose = 1 , validation_data =(val_data,val_targets))\n",
        "    return history.history"
      ],
      "execution_count": 5,
      "outputs": []
    },
    {
      "cell_type": "code",
      "metadata": {
        "colab": {
          "base_uri": "https://localhost:8080/"
        },
        "id": "hs-Pl9nlyB5k",
        "outputId": "fc315f49-33a6-48ff-9532-2e378188914f"
      },
      "source": [
        "model = HPREG(train_data)\n",
        "history = train(model,train_data,train_targets,val_data,val_targets)"
      ],
      "execution_count": 6,
      "outputs": [
        {
          "output_type": "stream",
          "name": "stdout",
          "text": [
            "Model: \"sequential\"\n",
            "_________________________________________________________________\n",
            "Layer (type)                 Output Shape              Param #   \n",
            "=================================================================\n",
            "dense (Dense)                (None, 64)                896       \n",
            "_________________________________________________________________\n",
            "dense_1 (Dense)              (None, 64)                4160      \n",
            "_________________________________________________________________\n",
            "dense_2 (Dense)              (None, 32)                2080      \n",
            "_________________________________________________________________\n",
            "dense_3 (Dense)              (None, 16)                528       \n",
            "_________________________________________________________________\n",
            "dense_4 (Dense)              (None, 1)                 17        \n",
            "=================================================================\n",
            "Total params: 7,681\n",
            "Trainable params: 7,681\n",
            "Non-trainable params: 0\n",
            "_________________________________________________________________\n",
            "None\n",
            "Epoch 1/30\n",
            "323/323 [==============================] - 2s 4ms/step - loss: 193.9377 - mse: 193.9377 - mape: 43.5216 - val_loss: 25.4915 - val_mse: 25.4915 - val_mape: 16.5713\n",
            "Epoch 2/30\n",
            "323/323 [==============================] - 1s 3ms/step - loss: 20.3953 - mse: 20.3953 - mape: 14.6569 - val_loss: 15.7141 - val_mse: 15.7141 - val_mape: 14.0592\n",
            "Epoch 3/30\n",
            "323/323 [==============================] - 1s 3ms/step - loss: 17.0899 - mse: 17.0899 - mape: 14.5387 - val_loss: 12.8559 - val_mse: 12.8559 - val_mape: 13.5006\n",
            "Epoch 4/30\n",
            "323/323 [==============================] - 1s 3ms/step - loss: 13.5011 - mse: 13.5011 - mape: 12.8434 - val_loss: 12.9844 - val_mse: 12.9844 - val_mape: 14.3806\n",
            "Epoch 5/30\n",
            "323/323 [==============================] - 1s 3ms/step - loss: 12.8045 - mse: 12.8045 - mape: 12.5306 - val_loss: 20.0538 - val_mse: 20.0538 - val_mape: 17.6969\n",
            "Epoch 6/30\n",
            "323/323 [==============================] - 1s 3ms/step - loss: 11.8807 - mse: 11.8807 - mape: 12.1443 - val_loss: 10.4618 - val_mse: 10.4618 - val_mape: 13.0947\n",
            "Epoch 7/30\n",
            "323/323 [==============================] - 1s 3ms/step - loss: 12.3731 - mse: 12.3731 - mape: 12.0933 - val_loss: 12.6823 - val_mse: 12.6823 - val_mape: 14.2450\n",
            "Epoch 8/30\n",
            "323/323 [==============================] - 1s 3ms/step - loss: 9.5786 - mse: 9.5786 - mape: 11.6575 - val_loss: 10.5965 - val_mse: 10.5965 - val_mape: 12.3769\n",
            "Epoch 9/30\n",
            "323/323 [==============================] - 1s 3ms/step - loss: 10.2100 - mse: 10.2100 - mape: 11.1818 - val_loss: 13.4444 - val_mse: 13.4444 - val_mape: 14.6331\n",
            "Epoch 10/30\n",
            "323/323 [==============================] - 1s 3ms/step - loss: 10.0978 - mse: 10.0978 - mape: 11.3793 - val_loss: 11.6249 - val_mse: 11.6249 - val_mape: 13.7688\n",
            "Epoch 11/30\n",
            "323/323 [==============================] - 1s 3ms/step - loss: 9.0928 - mse: 9.0928 - mape: 10.5285 - val_loss: 11.2334 - val_mse: 11.2334 - val_mape: 13.8864\n",
            "Epoch 12/30\n",
            "323/323 [==============================] - 1s 3ms/step - loss: 8.6706 - mse: 8.6706 - mape: 10.3974 - val_loss: 11.5489 - val_mse: 11.5489 - val_mape: 13.5403\n",
            "Epoch 13/30\n",
            "323/323 [==============================] - 1s 4ms/step - loss: 8.8399 - mse: 8.8399 - mape: 10.4222 - val_loss: 10.2188 - val_mse: 10.2188 - val_mape: 13.3410\n",
            "Epoch 14/30\n",
            "323/323 [==============================] - 1s 3ms/step - loss: 8.6476 - mse: 8.6476 - mape: 10.3876 - val_loss: 13.0721 - val_mse: 13.0721 - val_mape: 13.9724\n",
            "Epoch 15/30\n",
            "323/323 [==============================] - 1s 3ms/step - loss: 8.9908 - mse: 8.9908 - mape: 10.7608 - val_loss: 11.3830 - val_mse: 11.3830 - val_mape: 13.4864\n",
            "Epoch 16/30\n",
            "323/323 [==============================] - 1s 4ms/step - loss: 7.9226 - mse: 7.9226 - mape: 10.3248 - val_loss: 11.7386 - val_mse: 11.7386 - val_mape: 14.3520\n",
            "Epoch 17/30\n",
            "323/323 [==============================] - 1s 3ms/step - loss: 7.2766 - mse: 7.2766 - mape: 9.7471 - val_loss: 10.9469 - val_mse: 10.9469 - val_mape: 13.7882\n",
            "Epoch 18/30\n",
            "323/323 [==============================] - 1s 3ms/step - loss: 6.6840 - mse: 6.6840 - mape: 9.5130 - val_loss: 13.0787 - val_mse: 13.0787 - val_mape: 14.4261\n",
            "Epoch 19/30\n",
            "323/323 [==============================] - 1s 3ms/step - loss: 7.8930 - mse: 7.8930 - mape: 9.9981 - val_loss: 11.2663 - val_mse: 11.2663 - val_mape: 14.4425\n",
            "Epoch 20/30\n",
            "323/323 [==============================] - 1s 3ms/step - loss: 6.6898 - mse: 6.6898 - mape: 9.3994 - val_loss: 10.0197 - val_mse: 10.0197 - val_mape: 12.8806\n",
            "Epoch 21/30\n",
            "323/323 [==============================] - 1s 3ms/step - loss: 7.0720 - mse: 7.0720 - mape: 9.5004 - val_loss: 10.6379 - val_mse: 10.6379 - val_mape: 13.2084\n",
            "Epoch 22/30\n",
            "323/323 [==============================] - 1s 4ms/step - loss: 6.4512 - mse: 6.4512 - mape: 9.0318 - val_loss: 8.7298 - val_mse: 8.7298 - val_mape: 12.2411\n",
            "Epoch 23/30\n",
            "323/323 [==============================] - 1s 4ms/step - loss: 6.1620 - mse: 6.1620 - mape: 8.9494 - val_loss: 9.4824 - val_mse: 9.4824 - val_mape: 12.9702\n",
            "Epoch 24/30\n",
            "323/323 [==============================] - 1s 4ms/step - loss: 5.8784 - mse: 5.8784 - mape: 8.3654 - val_loss: 10.6929 - val_mse: 10.6929 - val_mape: 13.7324\n",
            "Epoch 25/30\n",
            "323/323 [==============================] - 1s 3ms/step - loss: 5.8871 - mse: 5.8871 - mape: 8.9193 - val_loss: 14.2327 - val_mse: 14.2327 - val_mape: 15.3942\n",
            "Epoch 26/30\n",
            "323/323 [==============================] - 1s 3ms/step - loss: 5.5753 - mse: 5.5753 - mape: 8.9995 - val_loss: 9.3356 - val_mse: 9.3356 - val_mape: 12.9548\n",
            "Epoch 27/30\n",
            "323/323 [==============================] - 1s 3ms/step - loss: 5.2484 - mse: 5.2484 - mape: 8.6773 - val_loss: 9.0852 - val_mse: 9.0852 - val_mape: 12.9233\n",
            "Epoch 28/30\n",
            "323/323 [==============================] - 1s 4ms/step - loss: 5.4944 - mse: 5.4944 - mape: 8.5236 - val_loss: 10.0452 - val_mse: 10.0452 - val_mape: 13.3032\n",
            "Epoch 29/30\n",
            "323/323 [==============================] - 1s 3ms/step - loss: 5.0309 - mse: 5.0309 - mape: 8.6361 - val_loss: 10.5342 - val_mse: 10.5342 - val_mape: 13.1905\n",
            "Epoch 30/30\n",
            "323/323 [==============================] - 1s 4ms/step - loss: 5.4129 - mse: 5.4129 - mape: 8.4970 - val_loss: 8.9604 - val_mse: 8.9604 - val_mape: 12.2838\n"
          ]
        }
      ]
    },
    {
      "cell_type": "code",
      "metadata": {
        "colab": {
          "base_uri": "https://localhost:8080/",
          "height": 545
        },
        "id": "2x6QA8fvu4iB",
        "outputId": "984f597a-0ecd-43db-ae4d-35c2070c20cf"
      },
      "source": [
        "def plot_history(epochs,history):\n",
        "    plt.figure()\n",
        "    plt.xlabel('Epoch')\n",
        "    plt.ylabel('Mean Square Error [Thousand Dollars$^2$]')\n",
        "    #plt.plot(epochs, history['mse'],'r', label='Train Error')\n",
        "    #plt.plot(epochs, history['val_mse'],'b', label = 'Val Error')\n",
        "    plt.plot(epochs, history['loss'],'m', label='Train Loss')\n",
        "    plt.plot(epochs, history['val_loss'],'c', label = 'Val Loss')\n",
        "    plt.legend()\n",
        "\n",
        "def plot_accuracy(epochs,history): \n",
        "    plt.figure()\n",
        "    plt.xlabel('Epoch')\n",
        "    plt.ylabel('Accuaracy')\n",
        "    plt.plot(epochs, history['mape'],'m', label='Train MAPE')\n",
        "    plt.plot(epochs, history['val_mape'],'c', label = 'Val MAPE')\n",
        "    plt.legend()\n",
        "\n",
        "epochs = range(1,31)\n",
        "plot_history(epochs,history)\n",
        "plot_accuracy(epochs,history)"
      ],
      "execution_count": 7,
      "outputs": [
        {
          "output_type": "display_data",
          "data": {
            "image/png": "[encoded data removed]",
            "text/plain": [
              "<Figure size 432x288 with 1 Axes>"
            ]
          },
          "metadata": {
            "needs_background": "light"
          }
        },
        {
          "output_type": "display_data",
          "data": {
            "image/png": "[encoded data removed]",
            "text/plain": [
              "<Figure size 432x288 with 1 Axes>"
            ]
          },
          "metadata": {
            "needs_background": "light"
          }
        }
      ]
    },
    {
      "cell_type": "markdown",
      "metadata": {
        "id": "6yvlaCXn-Z8H"
      },
      "source": [
        "# 3- Cross-Validation"
      ]
    },
    {
      "cell_type": "code",
      "metadata": {
        "colab": {
          "base_uri": "https://localhost:8080/"
        },
        "id": "KUjZHQyc1dTo",
        "outputId": "af59410a-77e5-4c61-d687-cfbc96c504c4"
      },
      "source": [
        "import numpy as np\n",
        "\n",
        "# We load again the data (because the first was alredy splitted)\n",
        "(train_data, train_targets), (test_data, test_targets) = boston_housing.load_data()\n",
        "\n",
        "nb_folds = 3\n",
        "nb_samples_by_fold = len(train_data) // nb_folds\n",
        "scores = []\n",
        "\n",
        "for i in range(nb_folds):\n",
        "    print(f'Working on fold #[{i}]...')\n",
        "    val_data = train_data[i * nb_samples_by_fold : (i+1) * nb_samples_by_fold]\n",
        "    val_targets = train_targets[i * nb_samples_by_fold : (i+1) * nb_samples_by_fold]\n",
        "    \n",
        "    train_data_i = np.concatenate(\n",
        "                            [train_data[:i * nb_samples_by_fold],\n",
        "                            train_data[(i+1) * nb_samples_by_fold:]],\n",
        "                            axis=0)\n",
        "    train_targets_i = np.concatenate(\n",
        "                            [train_targets[:i * nb_samples_by_fold],\n",
        "                            train_targets[(i+1)*nb_samples_by_fold:]],\n",
        "                            axis=0)\n",
        "    model = HPREG(train_data_i)\n",
        "    history = train(model,train_data_i,train_targets_i,val_data,val_targets)\n",
        "\n",
        "    score = model.evaluate(val_data, val_targets, verbose=1)\n",
        "    scores.append(score)"
      ],
      "execution_count": 8,
      "outputs": [
        {
          "output_type": "stream",
          "name": "stdout",
          "text": [
            "Working on fold #[0]...\n",
            "Model: \"sequential_1\"\n",
            "_________________________________________________________________\n",
            "Layer (type)                 Output Shape              Param #   \n",
            "=================================================================\n",
            "dense_5 (Dense)              (None, 64)                896       \n",
            "_________________________________________________________________\n",
            "dense_6 (Dense)              (None, 64)                4160      \n",
            "_________________________________________________________________\n",
            "dense_7 (Dense)              (None, 32)                2080      \n",
            "_________________________________________________________________\n",
            "dense_8 (Dense)              (None, 16)                528       \n",
            "_________________________________________________________________\n",
            "dense_9 (Dense)              (None, 1)                 17        \n",
            "=================================================================\n",
            "Total params: 7,681\n",
            "Trainable params: 7,681\n",
            "Non-trainable params: 0\n",
            "_________________________________________________________________\n",
            "None\n",
            "Epoch 1/30\n",
            "270/270 [==============================] - 2s 4ms/step - loss: 134.9522 - mse: 134.9522 - mape: 38.7995 - val_loss: 64.9926 - val_mse: 64.9926 - val_mape: 26.6960\n",
            "Epoch 2/30\n",
            "270/270 [==============================] - 1s 4ms/step - loss: 83.8978 - mse: 83.8978 - mape: 33.5301 - val_loss: 104.9783 - val_mse: 104.9783 - val_mape: 27.1344\n",
            "Epoch 3/30\n",
            "270/270 [==============================] - 1s 4ms/step - loss: 67.3011 - mse: 67.3011 - mape: 29.0889 - val_loss: 57.4668 - val_mse: 57.4668 - val_mape: 22.3336\n",
            "Epoch 4/30\n",
            "270/270 [==============================] - 1s 4ms/step - loss: 68.1926 - mse: 68.1926 - mape: 28.2979 - val_loss: 58.0807 - val_mse: 58.0807 - val_mape: 22.7551\n",
            "Epoch 5/30\n",
            "270/270 [==============================] - 1s 4ms/step - loss: 64.4162 - mse: 64.4162 - mape: 28.5516 - val_loss: 55.3407 - val_mse: 55.3407 - val_mape: 20.2149\n",
            "Epoch 6/30\n",
            "270/270 [==============================] - 1s 4ms/step - loss: 58.8339 - mse: 58.8339 - mape: 26.0823 - val_loss: 60.7340 - val_mse: 60.7340 - val_mape: 35.8718\n",
            "Epoch 7/30\n",
            "270/270 [==============================] - 1s 4ms/step - loss: 53.0667 - mse: 53.0667 - mape: 25.0235 - val_loss: 56.8751 - val_mse: 56.8751 - val_mape: 30.0729\n",
            "Epoch 8/30\n",
            "270/270 [==============================] - 1s 4ms/step - loss: 58.9090 - mse: 58.9090 - mape: 26.2359 - val_loss: 49.6119 - val_mse: 49.6119 - val_mape: 30.2469\n",
            "Epoch 9/30\n",
            "270/270 [==============================] - 1s 4ms/step - loss: 54.9685 - mse: 54.9685 - mape: 24.4805 - val_loss: 51.4764 - val_mse: 51.4764 - val_mape: 31.8891\n",
            "Epoch 10/30\n",
            "270/270 [==============================] - 1s 4ms/step - loss: 56.8897 - mse: 56.8897 - mape: 25.7732 - val_loss: 45.5722 - val_mse: 45.5722 - val_mape: 19.1861\n",
            "Epoch 11/30\n",
            "270/270 [==============================] - 1s 4ms/step - loss: 45.0319 - mse: 45.0319 - mape: 21.5140 - val_loss: 177.8900 - val_mse: 177.8900 - val_mape: 72.2725\n",
            "Epoch 12/30\n",
            "270/270 [==============================] - 1s 4ms/step - loss: 51.3487 - mse: 51.3487 - mape: 23.4600 - val_loss: 43.6106 - val_mse: 43.6106 - val_mape: 19.3724\n",
            "Epoch 13/30\n",
            "270/270 [==============================] - 1s 4ms/step - loss: 50.8115 - mse: 50.8115 - mape: 24.5304 - val_loss: 36.3896 - val_mse: 36.3896 - val_mape: 21.3208\n",
            "Epoch 14/30\n",
            "270/270 [==============================] - 1s 4ms/step - loss: 45.8105 - mse: 45.8105 - mape: 22.6831 - val_loss: 41.3063 - val_mse: 41.3063 - val_mape: 22.6606\n",
            "Epoch 15/30\n",
            "270/270 [==============================] - 1s 4ms/step - loss: 43.4885 - mse: 43.4885 - mape: 22.6494 - val_loss: 38.2623 - val_mse: 38.2623 - val_mape: 20.6976\n",
            "Epoch 16/30\n",
            "270/270 [==============================] - 1s 4ms/step - loss: 41.8464 - mse: 41.8464 - mape: 21.8808 - val_loss: 33.2985 - val_mse: 33.2985 - val_mape: 24.5635\n",
            "Epoch 17/30\n",
            "270/270 [==============================] - 1s 4ms/step - loss: 39.6481 - mse: 39.6481 - mape: 20.0616 - val_loss: 45.9878 - val_mse: 45.9878 - val_mape: 30.3338\n",
            "Epoch 18/30\n",
            "270/270 [==============================] - 1s 4ms/step - loss: 38.7906 - mse: 38.7906 - mape: 21.1879 - val_loss: 52.3473 - val_mse: 52.3473 - val_mape: 30.3944\n",
            "Epoch 19/30\n",
            "270/270 [==============================] - 1s 4ms/step - loss: 36.1162 - mse: 36.1162 - mape: 20.6828 - val_loss: 26.9396 - val_mse: 26.9396 - val_mape: 20.5857\n",
            "Epoch 20/30\n",
            "270/270 [==============================] - 1s 4ms/step - loss: 37.6111 - mse: 37.6111 - mape: 21.0660 - val_loss: 34.9618 - val_mse: 34.9618 - val_mape: 21.4017\n",
            "Epoch 21/30\n",
            "270/270 [==============================] - 1s 4ms/step - loss: 33.8261 - mse: 33.8261 - mape: 19.9805 - val_loss: 28.1271 - val_mse: 28.1271 - val_mape: 16.5048\n",
            "Epoch 22/30\n",
            "270/270 [==============================] - 1s 4ms/step - loss: 35.1639 - mse: 35.1639 - mape: 19.0794 - val_loss: 29.3645 - val_mse: 29.3645 - val_mape: 20.9841\n",
            "Epoch 23/30\n",
            "270/270 [==============================] - 1s 4ms/step - loss: 33.9605 - mse: 33.9605 - mape: 20.8564 - val_loss: 22.0584 - val_mse: 22.0584 - val_mape: 14.9258\n",
            "Epoch 24/30\n",
            "270/270 [==============================] - 1s 4ms/step - loss: 30.7795 - mse: 30.7795 - mape: 19.8148 - val_loss: 22.5344 - val_mse: 22.5344 - val_mape: 18.1445\n",
            "Epoch 25/30\n",
            "270/270 [==============================] - 1s 4ms/step - loss: 33.7419 - mse: 33.7419 - mape: 20.1549 - val_loss: 39.1782 - val_mse: 39.1782 - val_mape: 29.8296\n",
            "Epoch 26/30\n",
            "270/270 [==============================] - 1s 4ms/step - loss: 29.6556 - mse: 29.6556 - mape: 18.9017 - val_loss: 17.4766 - val_mse: 17.4766 - val_mape: 16.1566\n",
            "Epoch 27/30\n",
            "270/270 [==============================] - 1s 4ms/step - loss: 26.0814 - mse: 26.0814 - mape: 17.7634 - val_loss: 34.8502 - val_mse: 34.8502 - val_mape: 16.9092\n",
            "Epoch 28/30\n",
            "270/270 [==============================] - 1s 4ms/step - loss: 26.2021 - mse: 26.2021 - mape: 17.5426 - val_loss: 23.9654 - val_mse: 23.9654 - val_mape: 19.6405\n",
            "Epoch 29/30\n",
            "270/270 [==============================] - 1s 4ms/step - loss: 31.3642 - mse: 31.3642 - mape: 18.8508 - val_loss: 29.6033 - val_mse: 29.6033 - val_mape: 16.0369\n",
            "Epoch 30/30\n",
            "270/270 [==============================] - 1s 4ms/step - loss: 22.6511 - mse: 22.6511 - mape: 17.1039 - val_loss: 24.7537 - val_mse: 24.7537 - val_mape: 15.5336\n",
            "5/5 [==============================] - 0s 5ms/step - loss: 24.7537 - mse: 24.7537 - mape: 15.5336\n",
            "Working on fold #[1]...\n",
            "Model: \"sequential_2\"\n",
            "_________________________________________________________________\n",
            "Layer (type)                 Output Shape              Param #   \n",
            "=================================================================\n",
            "dense_10 (Dense)             (None, 64)                896       \n",
            "_________________________________________________________________\n",
            "dense_11 (Dense)             (None, 64)                4160      \n",
            "_________________________________________________________________\n",
            "dense_12 (Dense)             (None, 32)                2080      \n",
            "_________________________________________________________________\n",
            "dense_13 (Dense)             (None, 16)                528       \n",
            "_________________________________________________________________\n",
            "dense_14 (Dense)             (None, 1)                 17        \n",
            "=================================================================\n",
            "Total params: 7,681\n",
            "Trainable params: 7,681\n",
            "Non-trainable params: 0\n",
            "_________________________________________________________________\n",
            "None\n",
            "Epoch 1/30\n",
            "270/270 [==============================] - 2s 4ms/step - loss: 618.0128 - mse: 618.0128 - mape: 100.0000 - val_loss: 521.9802 - val_mse: 521.9802 - val_mape: 100.0000\n",
            "Epoch 2/30\n",
            "270/270 [==============================] - 1s 4ms/step - loss: 618.0128 - mse: 618.0128 - mape: 100.0000 - val_loss: 521.9802 - val_mse: 521.9802 - val_mape: 100.0000\n",
            "Epoch 3/30\n",
            "270/270 [==============================] - 1s 4ms/step - loss: 618.0128 - mse: 618.0128 - mape: 100.0000 - val_loss: 521.9802 - val_mse: 521.9802 - val_mape: 100.0000\n",
            "Epoch 4/30\n",
            "270/270 [==============================] - 1s 4ms/step - loss: 618.0128 - mse: 618.0128 - mape: 100.0000 - val_loss: 521.9802 - val_mse: 521.9802 - val_mape: 100.0000\n",
            "Epoch 5/30\n",
            "270/270 [==============================] - 1s 4ms/step - loss: 618.0127 - mse: 618.0127 - mape: 100.0000 - val_loss: 521.9802 - val_mse: 521.9802 - val_mape: 100.0000\n",
            "Epoch 6/30\n",
            "270/270 [==============================] - 1s 4ms/step - loss: 618.0129 - mse: 618.0129 - mape: 100.0000 - val_loss: 521.9802 - val_mse: 521.9802 - val_mape: 100.0000\n",
            "Epoch 7/30\n",
            "270/270 [==============================] - 1s 4ms/step - loss: 618.0128 - mse: 618.0128 - mape: 100.0000 - val_loss: 521.9802 - val_mse: 521.9802 - val_mape: 100.0000\n",
            "Epoch 8/30\n",
            "270/270 [==============================] - 1s 4ms/step - loss: 618.0129 - mse: 618.0129 - mape: 100.0000 - val_loss: 521.9802 - val_mse: 521.9802 - val_mape: 100.0000\n",
            "Epoch 9/30\n",
            "270/270 [==============================] - 1s 4ms/step - loss: 618.0129 - mse: 618.0129 - mape: 100.0000 - val_loss: 521.9802 - val_mse: 521.9802 - val_mape: 100.0000\n",
            "Epoch 10/30\n",
            "270/270 [==============================] - 1s 4ms/step - loss: 618.0128 - mse: 618.0128 - mape: 100.0000 - val_loss: 521.9802 - val_mse: 521.9802 - val_mape: 100.0000\n",
            "Epoch 11/30\n",
            "270/270 [==============================] - 1s 4ms/step - loss: 618.0129 - mse: 618.0129 - mape: 100.0000 - val_loss: 521.9802 - val_mse: 521.9802 - val_mape: 100.0000\n",
            "Epoch 12/30\n",
            "270/270 [==============================] - 1s 4ms/step - loss: 618.0128 - mse: 618.0128 - mape: 100.0000 - val_loss: 521.9802 - val_mse: 521.9802 - val_mape: 100.0000\n",
            "Epoch 13/30\n",
            "270/270 [==============================] - 1s 4ms/step - loss: 618.0129 - mse: 618.0129 - mape: 100.0000 - val_loss: 521.9802 - val_mse: 521.9802 - val_mape: 100.0000\n",
            "Epoch 14/30\n",
            "270/270 [==============================] - 1s 4ms/step - loss: 618.0128 - mse: 618.0128 - mape: 100.0000 - val_loss: 521.9802 - val_mse: 521.9802 - val_mape: 100.0000\n",
            "Epoch 15/30\n",
            "270/270 [==============================] - 1s 4ms/step - loss: 618.0128 - mse: 618.0128 - mape: 100.0000 - val_loss: 521.9802 - val_mse: 521.9802 - val_mape: 100.0000\n",
            "Epoch 16/30\n",
            "270/270 [==============================] - 1s 4ms/step - loss: 618.0130 - mse: 618.0130 - mape: 100.0000 - val_loss: 521.9802 - val_mse: 521.9802 - val_mape: 100.0000\n",
            "Epoch 17/30\n",
            "270/270 [==============================] - 1s 4ms/step - loss: 618.0128 - mse: 618.0128 - mape: 100.0000 - val_loss: 521.9802 - val_mse: 521.9802 - val_mape: 100.0000\n",
            "Epoch 18/30\n",
            "270/270 [==============================] - 1s 4ms/step - loss: 618.0131 - mse: 618.0131 - mape: 100.0000 - val_loss: 521.9802 - val_mse: 521.9802 - val_mape: 100.0000\n",
            "Epoch 19/30\n",
            "270/270 [==============================] - 1s 4ms/step - loss: 618.0130 - mse: 618.0130 - mape: 100.0000 - val_loss: 521.9802 - val_mse: 521.9802 - val_mape: 100.0000\n",
            "Epoch 20/30\n",
            "270/270 [==============================] - 1s 4ms/step - loss: 618.0129 - mse: 618.0129 - mape: 100.0000 - val_loss: 521.9802 - val_mse: 521.9802 - val_mape: 100.0000\n",
            "Epoch 21/30\n",
            "270/270 [==============================] - 1s 4ms/step - loss: 618.0128 - mse: 618.0128 - mape: 100.0000 - val_loss: 521.9802 - val_mse: 521.9802 - val_mape: 100.0000\n",
            "Epoch 22/30\n",
            "270/270 [==============================] - 1s 4ms/step - loss: 618.0129 - mse: 618.0129 - mape: 100.0000 - val_loss: 521.9802 - val_mse: 521.9802 - val_mape: 100.0000\n",
            "Epoch 23/30\n",
            "270/270 [==============================] - 1s 4ms/step - loss: 618.0129 - mse: 618.0129 - mape: 100.0000 - val_loss: 521.9802 - val_mse: 521.9802 - val_mape: 100.0000\n",
            "Epoch 24/30\n",
            "270/270 [==============================] - 1s 4ms/step - loss: 618.0130 - mse: 618.0130 - mape: 100.0000 - val_loss: 521.9802 - val_mse: 521.9802 - val_mape: 100.0000\n",
            "Epoch 25/30\n",
            "270/270 [==============================] - 1s 4ms/step - loss: 618.0126 - mse: 618.0126 - mape: 100.0000 - val_loss: 521.9802 - val_mse: 521.9802 - val_mape: 100.0000\n",
            "Epoch 26/30\n",
            "270/270 [==============================] - 1s 4ms/step - loss: 618.0129 - mse: 618.0129 - mape: 100.0000 - val_loss: 521.9802 - val_mse: 521.9802 - val_mape: 100.0000\n",
            "Epoch 27/30\n",
            "270/270 [==============================] - 1s 4ms/step - loss: 618.0129 - mse: 618.0129 - mape: 100.0000 - val_loss: 521.9802 - val_mse: 521.9802 - val_mape: 100.0000\n",
            "Epoch 28/30\n",
            "270/270 [==============================] - 1s 4ms/step - loss: 618.0128 - mse: 618.0128 - mape: 100.0000 - val_loss: 521.9802 - val_mse: 521.9802 - val_mape: 100.0000\n",
            "Epoch 29/30\n",
            "270/270 [==============================] - 1s 4ms/step - loss: 618.0128 - mse: 618.0128 - mape: 100.0000 - val_loss: 521.9802 - val_mse: 521.9802 - val_mape: 100.0000\n",
            "Epoch 30/30\n",
            "270/270 [==============================] - 1s 4ms/step - loss: 618.0128 - mse: 618.0128 - mape: 100.0000 - val_loss: 521.9802 - val_mse: 521.9802 - val_mape: 100.0000\n",
            "5/5 [==============================] - 0s 5ms/step - loss: 521.9802 - mse: 521.9802 - mape: 100.0000\n",
            "Working on fold #[2]...\n",
            "Model: \"sequential_3\"\n",
            "_________________________________________________________________\n",
            "Layer (type)                 Output Shape              Param #   \n",
            "=================================================================\n",
            "dense_15 (Dense)             (None, 64)                896       \n",
            "_________________________________________________________________\n",
            "dense_16 (Dense)             (None, 64)                4160      \n",
            "_________________________________________________________________\n",
            "dense_17 (Dense)             (None, 32)                2080      \n",
            "_________________________________________________________________\n",
            "dense_18 (Dense)             (None, 16)                528       \n",
            "_________________________________________________________________\n",
            "dense_19 (Dense)             (None, 1)                 17        \n",
            "=================================================================\n",
            "Total params: 7,681\n",
            "Trainable params: 7,681\n",
            "Non-trainable params: 0\n",
            "_________________________________________________________________\n",
            "None\n",
            "Epoch 1/30\n",
            "270/270 [==============================] - 2s 4ms/step - loss: 102.3002 - mse: 102.3002 - mape: 38.0702 - val_loss: 95.6413 - val_mse: 95.6413 - val_mape: 22.3319\n",
            "Epoch 2/30\n",
            "270/270 [==============================] - 1s 4ms/step - loss: 61.2370 - mse: 61.2370 - mape: 28.3372 - val_loss: 123.0111 - val_mse: 123.0111 - val_mape: 27.2224\n",
            "Epoch 3/30\n",
            "270/270 [==============================] - 1s 4ms/step - loss: 60.2007 - mse: 60.2007 - mape: 27.8400 - val_loss: 76.4422 - val_mse: 76.4422 - val_mape: 26.0288\n",
            "Epoch 4/30\n",
            "270/270 [==============================] - 1s 4ms/step - loss: 52.0051 - mse: 52.0051 - mape: 25.4516 - val_loss: 76.7607 - val_mse: 76.7607 - val_mape: 26.6327\n",
            "Epoch 5/30\n",
            "270/270 [==============================] - 1s 4ms/step - loss: 54.0104 - mse: 54.0104 - mape: 26.2195 - val_loss: 80.7065 - val_mse: 80.7065 - val_mape: 36.6404\n",
            "Epoch 6/30\n",
            "270/270 [==============================] - 1s 4ms/step - loss: 52.8391 - mse: 52.8391 - mape: 26.3172 - val_loss: 71.8088 - val_mse: 71.8088 - val_mape: 22.1338\n",
            "Epoch 7/30\n",
            "270/270 [==============================] - 1s 4ms/step - loss: 45.1719 - mse: 45.1719 - mape: 23.4199 - val_loss: 73.3590 - val_mse: 73.3590 - val_mape: 19.6397\n",
            "Epoch 8/30\n",
            "270/270 [==============================] - 1s 4ms/step - loss: 42.4352 - mse: 42.4352 - mape: 22.6924 - val_loss: 65.4988 - val_mse: 65.4988 - val_mape: 26.1539\n",
            "Epoch 9/30\n",
            "270/270 [==============================] - 1s 4ms/step - loss: 44.8978 - mse: 44.8978 - mape: 24.4807 - val_loss: 60.0891 - val_mse: 60.0891 - val_mape: 21.3556\n",
            "Epoch 10/30\n",
            "270/270 [==============================] - 1s 4ms/step - loss: 40.1849 - mse: 40.1849 - mape: 21.7616 - val_loss: 65.4262 - val_mse: 65.4262 - val_mape: 19.0490\n",
            "Epoch 11/30\n",
            "270/270 [==============================] - 1s 4ms/step - loss: 39.2257 - mse: 39.2257 - mape: 22.0232 - val_loss: 68.7501 - val_mse: 68.7501 - val_mape: 18.4176\n",
            "Epoch 12/30\n",
            "270/270 [==============================] - 1s 4ms/step - loss: 36.1803 - mse: 36.1803 - mape: 21.5627 - val_loss: 55.0269 - val_mse: 55.0269 - val_mape: 19.5442\n",
            "Epoch 13/30\n",
            "270/270 [==============================] - 1s 4ms/step - loss: 32.1550 - mse: 32.1550 - mape: 20.2269 - val_loss: 48.9891 - val_mse: 48.9891 - val_mape: 19.8989\n",
            "Epoch 14/30\n",
            "270/270 [==============================] - 1s 4ms/step - loss: 32.0383 - mse: 32.0383 - mape: 20.1699 - val_loss: 47.2864 - val_mse: 47.2864 - val_mape: 20.0926\n",
            "Epoch 15/30\n",
            "270/270 [==============================] - 1s 4ms/step - loss: 29.4915 - mse: 29.4915 - mape: 19.4897 - val_loss: 44.8539 - val_mse: 44.8539 - val_mape: 20.0414\n",
            "Epoch 16/30\n",
            "270/270 [==============================] - 1s 4ms/step - loss: 34.7055 - mse: 34.7055 - mape: 20.2183 - val_loss: 45.4699 - val_mse: 45.4699 - val_mape: 19.2166\n",
            "Epoch 17/30\n",
            "270/270 [==============================] - 1s 4ms/step - loss: 27.7263 - mse: 27.7263 - mape: 18.4164 - val_loss: 43.5688 - val_mse: 43.5688 - val_mape: 17.0067\n",
            "Epoch 18/30\n",
            "270/270 [==============================] - 1s 4ms/step - loss: 27.6786 - mse: 27.6786 - mape: 19.3989 - val_loss: 39.8716 - val_mse: 39.8716 - val_mape: 21.1752\n",
            "Epoch 19/30\n",
            "270/270 [==============================] - 1s 4ms/step - loss: 25.6822 - mse: 25.6822 - mape: 18.0552 - val_loss: 53.7881 - val_mse: 53.7881 - val_mape: 18.3741\n",
            "Epoch 20/30\n",
            "270/270 [==============================] - 1s 4ms/step - loss: 24.8501 - mse: 24.8501 - mape: 17.0564 - val_loss: 39.8983 - val_mse: 39.8983 - val_mape: 21.8739\n",
            "Epoch 21/30\n",
            "270/270 [==============================] - 1s 4ms/step - loss: 23.2333 - mse: 23.2333 - mape: 17.3631 - val_loss: 41.7377 - val_mse: 41.7377 - val_mape: 18.8471\n",
            "Epoch 22/30\n",
            "270/270 [==============================] - 1s 4ms/step - loss: 24.0120 - mse: 24.0120 - mape: 17.5948 - val_loss: 40.9354 - val_mse: 40.9354 - val_mape: 23.3930\n",
            "Epoch 23/30\n",
            "270/270 [==============================] - 1s 4ms/step - loss: 24.1792 - mse: 24.1792 - mape: 17.7783 - val_loss: 33.5806 - val_mse: 33.5806 - val_mape: 15.8367\n",
            "Epoch 24/30\n",
            "270/270 [==============================] - 1s 4ms/step - loss: 26.6634 - mse: 26.6634 - mape: 18.3418 - val_loss: 43.3534 - val_mse: 43.3534 - val_mape: 16.9911\n",
            "Epoch 25/30\n",
            "270/270 [==============================] - 1s 5ms/step - loss: 22.1482 - mse: 22.1482 - mape: 17.3256 - val_loss: 32.1600 - val_mse: 32.1600 - val_mape: 15.7221\n",
            "Epoch 26/30\n",
            "270/270 [==============================] - 1s 4ms/step - loss: 23.0032 - mse: 23.0032 - mape: 17.2124 - val_loss: 42.9556 - val_mse: 42.9556 - val_mape: 16.4884\n",
            "Epoch 27/30\n",
            "270/270 [==============================] - 1s 4ms/step - loss: 23.3680 - mse: 23.3680 - mape: 17.2004 - val_loss: 33.8771 - val_mse: 33.8771 - val_mape: 15.0585\n",
            "Epoch 28/30\n",
            "270/270 [==============================] - 1s 4ms/step - loss: 19.9625 - mse: 19.9625 - mape: 16.5282 - val_loss: 33.1229 - val_mse: 33.1229 - val_mape: 20.2702\n",
            "Epoch 29/30\n",
            "270/270 [==============================] - 1s 4ms/step - loss: 20.6302 - mse: 20.6302 - mape: 16.9304 - val_loss: 34.6446 - val_mse: 34.6446 - val_mape: 18.0196\n",
            "Epoch 30/30\n",
            "270/270 [==============================] - 1s 4ms/step - loss: 19.4157 - mse: 19.4157 - mape: 16.4315 - val_loss: 28.5962 - val_mse: 28.5962 - val_mape: 15.7450\n",
            "5/5 [==============================] - 0s 4ms/step - loss: 28.5962 - mse: 28.5962 - mape: 15.7450\n"
          ]
        }
      ]
    },
    {
      "cell_type": "code",
      "metadata": {
        "colab": {
          "base_uri": "https://localhost:8080/"
        },
        "id": "eV0vTn_TBPi7",
        "outputId": "6d2a16ff-ae6c-4e93-d97f-5a2764b754ca"
      },
      "source": [
        "loss_scores = list(map(lambda x: x[0],scores))\n",
        "mean_loss = np.mean(loss_scores)\n",
        "mean_loss"
      ],
      "execution_count": 16,
      "outputs": [
        {
          "output_type": "execute_result",
          "data": {
            "text/plain": [
              "191.77667617797852"
            ]
          },
          "metadata": {},
          "execution_count": 16
        }
      ]
    },
    {
      "cell_type": "code",
      "metadata": {
        "id": "ZGOmnoCpCfyp"
      },
      "source": [
        ""
      ],
      "execution_count": null,
      "outputs": []
    }
  ]
}