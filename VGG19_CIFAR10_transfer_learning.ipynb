{
  "nbformat": 4,
  "nbformat_minor": 0,
  "metadata": {
    "colab": {
      "name": "VGG19_CIFAR10_transfer_learning.ipynb",
      "provenance": [],
      "collapsed_sections": [],
      "authorship_tag": "ABX9TyMzohy/RknvxOM571vTc3ZR",
      "include_colab_link": true
    },
    "kernelspec": {
      "name": "python3",
      "display_name": "Python 3"
    },
    "language_info": {
      "name": "python"
    },
    "accelerator": "GPU"
  },
  "cells": [
    {
      "cell_type": "markdown",
      "metadata": {
        "id": "view-in-github",
        "colab_type": "text"
      },
      "source": [
        "<a href=\"https://colab.research.google.com/github/ChihabEddine98/DL_course/blob/main/VGG19_CIFAR10_transfer_learning.ipynb\" target=\"_parent\"><img src=\"https://colab.research.google.com/assets/colab-badge.svg\" alt=\"Open In Colab\"/></a>"
      ]
    },
    {
      "cell_type": "code",
      "metadata": {
        "colab": {
          "base_uri": "https://localhost:8080/"
        },
        "id": "Q3uhG7xSoFIq",
        "outputId": "1ee31075-d9a1-45d1-f9d4-afc8f70ac60a"
      },
      "source": [
        "import tensorflow as tf\n",
        "import numpy as np\n",
        "import matplotlib.pyplot as plt\n",
        "\n",
        "\n",
        "model = tf.keras.applications.vgg16.VGG16(include_top=False, classes=10, input_shape = (32,32,3))\n",
        "\n",
        "(X_train, y_train), (X_test, y_test) = tf.keras.datasets.cifar10.load_data()\n",
        "\n",
        "X_train = tf.keras.applications.vgg16.preprocess_input(X_train)\n",
        "X_test = tf.keras.applications.vgg16.preprocess_input(X_test)\n",
        "y_train = tf.keras.utils.to_categorical(y_train)\n",
        "y_test = tf.keras.utils.to_categorical(y_test)\n",
        "\n",
        "\n",
        "model.trainable = False\n",
        "input_layer = model.input\n",
        "x = model(input_layer)\n",
        "x = tf.keras.layers.Flatten()(x)\n",
        "x = tf.keras.layers.Dense(256, activation = 'relu')(x)\n",
        "x = tf.keras.layers.Dense(10, activation = 'softmax')(x)\n",
        " \n",
        "new_model = tf.keras.models.Model(inputs = input_layer, outputs = x)\n",
        "new_model.summary()"
      ],
      "execution_count": 1,
      "outputs": [
        {
          "output_type": "stream",
          "name": "stdout",
          "text": [
            "Downloading data from https://storage.googleapis.com/tensorflow/keras-applications/vgg16/vgg16_weights_tf_dim_ordering_tf_kernels_notop.h5\n",
            "58892288/58889256 [==============================] - 1s 0us/step\n",
            "58900480/58889256 [==============================] - 1s 0us/step\n",
            "Downloading data from https://www.cs.toronto.edu/~kriz/cifar-10-python.tar.gz\n",
            "170500096/170498071 [==============================] - 2s 0us/step\n",
            "170508288/170498071 [==============================] - 2s 0us/step\n",
            "Model: \"model\"\n",
            "_________________________________________________________________\n",
            "Layer (type)                 Output Shape              Param #   \n",
            "=================================================================\n",
            "input_1 (InputLayer)         [(None, 32, 32, 3)]       0         \n",
            "_________________________________________________________________\n",
            "vgg16 (Functional)           (None, 1, 1, 512)         14714688  \n",
            "_________________________________________________________________\n",
            "flatten (Flatten)            (None, 512)               0         \n",
            "_________________________________________________________________\n",
            "dense (Dense)                (None, 256)               131328    \n",
            "_________________________________________________________________\n",
            "dense_1 (Dense)              (None, 10)                2570      \n",
            "=================================================================\n",
            "Total params: 14,848,586\n",
            "Trainable params: 133,898\n",
            "Non-trainable params: 14,714,688\n",
            "_________________________________________________________________\n"
          ]
        }
      ]
    },
    {
      "cell_type": "code",
      "metadata": {
        "colab": {
          "base_uri": "https://localhost:8080/"
        },
        "id": "8KU3mKlCodXF",
        "outputId": "40e9723b-643c-42b3-f4ec-9f24e0929b23"
      },
      "source": [
        "new_model.compile(loss ='categorical_crossentropy', optimizer = 'adam', metrics = ['acc'])\n",
        "\n",
        "history = new_model.fit(X_train, y_train, validation_split = 0.1, epochs = 5)\n",
        "\n",
        "new_model.evaluate(X_test, y_test)"
      ],
      "execution_count": 2,
      "outputs": [
        {
          "output_type": "stream",
          "name": "stdout",
          "text": [
            "Epoch 1/5\n",
            "1407/1407 [==============================] - 60s 22ms/step - loss: 1.8764 - acc: 0.5583 - val_loss: 1.1219 - val_acc: 0.6216\n",
            "Epoch 2/5\n",
            "1407/1407 [==============================] - 30s 21ms/step - loss: 0.9636 - acc: 0.6663 - val_loss: 1.0557 - val_acc: 0.6356\n",
            "Epoch 3/5\n",
            "1407/1407 [==============================] - 30s 21ms/step - loss: 0.8678 - acc: 0.6999 - val_loss: 1.0652 - val_acc: 0.6532\n",
            "Epoch 4/5\n",
            "1407/1407 [==============================] - 30s 21ms/step - loss: 0.7950 - acc: 0.7203 - val_loss: 1.1019 - val_acc: 0.6474\n",
            "Epoch 5/5\n",
            "1407/1407 [==============================] - 30s 21ms/step - loss: 0.7274 - acc: 0.7453 - val_loss: 1.1526 - val_acc: 0.6508\n",
            "313/313 [==============================] - 6s 20ms/step - loss: 1.1966 - acc: 0.6411\n"
          ]
        },
        {
          "output_type": "execute_result",
          "data": {
            "text/plain": [
              "[1.196557641029358, 0.6410999894142151]"
            ]
          },
          "metadata": {},
          "execution_count": 2
        }
      ]
    },
    {
      "cell_type": "code",
      "metadata": {
        "id": "0_eHwOWQo0oM"
      },
      "source": [
        ""
      ],
      "execution_count": null,
      "outputs": []
    }
  ]
}