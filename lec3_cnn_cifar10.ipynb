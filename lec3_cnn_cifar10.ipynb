{
  "nbformat": 4,
  "nbformat_minor": 0,
  "metadata": {
    "colab": {
      "name": "lec2_cnn.ipynb",
      "provenance": [],
      "collapsed_sections": [],
      "authorship_tag": "ABX9TyOQ1rxI5StdVddI+IULTGqN",
      "include_colab_link": true
    },
    "kernelspec": {
      "name": "python3",
      "display_name": "Python 3"
    },
    "language_info": {
      "name": "python"
    },
    "accelerator": "GPU"
  },
  "cells": [
    {
      "cell_type": "markdown",
      "metadata": {
        "id": "view-in-github",
        "colab_type": "text"
      },
      "source": [
        "<a href=\"https://colab.research.google.com/github/ChihabEddine98/DL_course/blob/main/lec3_cnn_cifar10.ipynb\" target=\"_parent\"><img src=\"https://colab.research.google.com/assets/colab-badge.svg\" alt=\"Open In Colab\"/></a>"
      ]
    },
    {
      "cell_type": "code",
      "metadata": {
        "id": "nNvL3VycQHWy"
      },
      "source": [
        "# Imports \n",
        "import tensorflow as tf\n",
        "from keras.datasets import mnist\n",
        "from keras.layers import Dense, Flatten, Dropout,MaxPooling2D\n",
        "from keras.layers import Conv2D\n",
        "from tensorflow.keras.utils import to_categorical\n",
        "from keras import Sequential,Input\n",
        "\n",
        "# the data, shuffled and split between train and test sets\n",
        "(x_train, y_train), (x_test, y_test) = mnist.load_data()"
      ],
      "execution_count": 1,
      "outputs": []
    },
    {
      "cell_type": "code",
      "metadata": {
        "colab": {
          "base_uri": "https://localhost:8080/"
        },
        "id": "xYqlgdKXUvsS",
        "outputId": "f10086b4-ede0-425b-e2f1-b299664c8fe1"
      },
      "source": [
        "# Make input daat from 0 to 1\n",
        "x_train = x_train.astype(\"float32\") / 255\n",
        "x_test = x_test.astype(\"float32\") / 255\n",
        "x_train = x_train.reshape(60000,28,28,1)\n",
        "x_test = x_test.reshape(10000,28,28,1)\n",
        "#print(f'{x_train.shape}')\n",
        "\n",
        "# convert class vectors to binary class matrices\n",
        "y_train = to_categorical(y_train, 10)\n",
        "y_test = to_categorical(y_test, 10)\n",
        "\n",
        "\n",
        "def CNN():\n",
        "  model = Sequential([\n",
        "                      Conv2D(32, kernel_size=(3, 3), activation='relu' , input_shape = (28,28,1)),\n",
        "                      Conv2D(64, kernel_size=(3, 3), activation='relu'),\n",
        "                      MaxPooling2D(pool_size=(2,2)),\n",
        "                      Dropout(0.2),\n",
        "                      Flatten(),\n",
        "                      Dense(128,activation='relu'),\n",
        "                      Dropout(0.5),\n",
        "                      Dense(10, activation='softmax')\n",
        "                      ]\n",
        "                      )\n",
        "  \n",
        "  model.compile(loss = 'categorical_crossentropy', optimizer= 'adam',metrics =['acc' , 'mse'])\n",
        "  return model\n",
        "\n",
        "\n",
        "def train(model):\n",
        "  with tf.device('/device:GPU:0'):\n",
        "      history = model.fit(x_train,y_train ,\n",
        "                          batch_size = 256,\n",
        "                          epochs = 10,\n",
        "                          verbose = 1,\n",
        "                          validation_split = 0.1)\n",
        "            \n",
        "  return history.history\n",
        "\n",
        "def score(model):\n",
        "  return model.evaluate(x_test,y_test,verbose=0)\n",
        "\n",
        "print(x_train.shape)\n",
        "model = CNN()\n",
        "model.summary()"
      ],
      "execution_count": 2,
      "outputs": [
        {
          "output_type": "stream",
          "name": "stdout",
          "text": [
            "(60000, 28, 28, 1)\n",
            "Model: \"sequential\"\n",
            "_________________________________________________________________\n",
            "Layer (type)                 Output Shape              Param #   \n",
            "=================================================================\n",
            "conv2d (Conv2D)              (None, 26, 26, 32)        320       \n",
            "_________________________________________________________________\n",
            "conv2d_1 (Conv2D)            (None, 24, 24, 64)        18496     \n",
            "_________________________________________________________________\n",
            "max_pooling2d (MaxPooling2D) (None, 12, 12, 64)        0         \n",
            "_________________________________________________________________\n",
            "dropout (Dropout)            (None, 12, 12, 64)        0         \n",
            "_________________________________________________________________\n",
            "flatten (Flatten)            (None, 9216)              0         \n",
            "_________________________________________________________________\n",
            "dense (Dense)                (None, 128)               1179776   \n",
            "_________________________________________________________________\n",
            "dropout_1 (Dropout)          (None, 128)               0         \n",
            "_________________________________________________________________\n",
            "dense_1 (Dense)              (None, 10)                1290      \n",
            "=================================================================\n",
            "Total params: 1,199,882\n",
            "Trainable params: 1,199,882\n",
            "Non-trainable params: 0\n",
            "_________________________________________________________________\n"
          ]
        }
      ]
    },
    {
      "cell_type": "code",
      "metadata": {
        "id": "XbIT5WCmdPCy",
        "colab": {
          "base_uri": "https://localhost:8080/"
        },
        "outputId": "e1c7795a-370f-4c81-96f0-8646bfd45e21"
      },
      "source": [
        "history = train(model)"
      ],
      "execution_count": 3,
      "outputs": [
        {
          "output_type": "stream",
          "name": "stdout",
          "text": [
            "Epoch 1/10\n",
            "211/211 [==============================] - 7s 25ms/step - loss: 0.3251 - acc: 0.9010 - mse: 0.0145 - val_loss: 0.0595 - val_acc: 0.9835 - val_mse: 0.0025\n",
            "Epoch 2/10\n",
            "211/211 [==============================] - 5s 23ms/step - loss: 0.0956 - acc: 0.9712 - mse: 0.0045 - val_loss: 0.0440 - val_acc: 0.9877 - val_mse: 0.0019\n",
            "Epoch 3/10\n",
            "211/211 [==============================] - 5s 24ms/step - loss: 0.0718 - acc: 0.9787 - mse: 0.0033 - val_loss: 0.0393 - val_acc: 0.9880 - val_mse: 0.0017\n",
            "Epoch 4/10\n",
            "211/211 [==============================] - 5s 23ms/step - loss: 0.0581 - acc: 0.9819 - mse: 0.0028 - val_loss: 0.0339 - val_acc: 0.9913 - val_mse: 0.0014\n",
            "Epoch 5/10\n",
            "211/211 [==============================] - 5s 23ms/step - loss: 0.0474 - acc: 0.9851 - mse: 0.0023 - val_loss: 0.0387 - val_acc: 0.9902 - val_mse: 0.0015\n",
            "Epoch 6/10\n",
            "211/211 [==============================] - 5s 23ms/step - loss: 0.0411 - acc: 0.9871 - mse: 0.0020 - val_loss: 0.0327 - val_acc: 0.9917 - val_mse: 0.0013\n",
            "Epoch 7/10\n",
            "211/211 [==============================] - 5s 23ms/step - loss: 0.0386 - acc: 0.9878 - mse: 0.0019 - val_loss: 0.0350 - val_acc: 0.9908 - val_mse: 0.0015\n",
            "Epoch 8/10\n",
            "211/211 [==============================] - 5s 23ms/step - loss: 0.0324 - acc: 0.9894 - mse: 0.0016 - val_loss: 0.0335 - val_acc: 0.9913 - val_mse: 0.0013\n",
            "Epoch 9/10\n",
            "211/211 [==============================] - 5s 24ms/step - loss: 0.0304 - acc: 0.9898 - mse: 0.0016 - val_loss: 0.0383 - val_acc: 0.9910 - val_mse: 0.0014\n",
            "Epoch 10/10\n",
            "211/211 [==============================] - 5s 23ms/step - loss: 0.0261 - acc: 0.9915 - mse: 0.0013 - val_loss: 0.0349 - val_acc: 0.9917 - val_mse: 0.0013\n"
          ]
        }
      ]
    },
    {
      "cell_type": "code",
      "metadata": {
        "id": "QpXMxy6HVU3P",
        "colab": {
          "base_uri": "https://localhost:8080/",
          "height": 336
        },
        "outputId": "4aa71cfc-5e6e-43d3-d4bc-5f72e04e7618"
      },
      "source": [
        "%matplotlib inline\n",
        "import matplotlib.pyplot as plt\n",
        "\n",
        "\n",
        "def plots(epochs , history):\n",
        "    fig,ax = plt.subplots(1,2)\n",
        "    fig.set_size_inches((12,5))\n",
        "    ax[0].plot(epochs, history['acc'] , 'g' , label = 'Train acc')\n",
        "    ax[0].plot(epochs, history['val_acc'],'m',label = 'Val acc')\n",
        "    ax[0].set_title('Accuracy History ')\n",
        "    ax[0].legend()\n",
        "\n",
        "    ax[1].plot(epochs, history['loss'] , 'r',label = 'Train loss')\n",
        "    ax[1].plot(epochs, history['val_loss'],'c',label = 'Val loss')\n",
        "    ax[1].set_title('Loss History ')\n",
        "    ax[1].legend()\n",
        "\n",
        "    fig.show()\n",
        "\n",
        "\n",
        "epochs = range(1,11)\n",
        "plots(epochs,history)\n",
        "\n",
        "\n",
        "\n"
      ],
      "execution_count": 8,
      "outputs": [
        {
          "output_type": "display_data",
          "data": {
            "image/png": "[encoded data removed]",
            "text/plain": [
              "<Figure size 864x360 with 2 Axes>"
            ]
          },
          "metadata": {
            "needs_background": "light"
          }
        }
      ]
    },
    {
      "cell_type": "code",
      "metadata": {
        "colab": {
          "base_uri": "https://localhost:8080/"
        },
        "id": "w24v5MItDQ_F",
        "outputId": "0662a6df-c5b8-46e0-b8d6-ac6059143c68"
      },
      "source": [
        "acc = score(model)\n",
        "print(f' Test Score [Accuracy]: {acc[1]*100:.2f}%')"
      ],
      "execution_count": 9,
      "outputs": [
        {
          "output_type": "stream",
          "name": "stdout",
          "text": [
            " Test Score [Accuracy]: 99.09%\n"
          ]
        }
      ]
    },
    {
      "cell_type": "markdown",
      "metadata": {
        "id": "FFQeRYSjGuKH"
      },
      "source": [
        "# CIFAR10 dataset"
      ]
    },
    {
      "cell_type": "code",
      "metadata": {
        "colab": {
          "base_uri": "https://localhost:8080/"
        },
        "id": "P9tNb_IrGyaO",
        "outputId": "c6060575-bb67-4bd8-b988-5b90a7829009"
      },
      "source": [
        "from tensorflow.keras.datasets import cifar10\n",
        "# Load Data\n",
        "(train_images, train_labels), (test_images, test_labels) = cifar10.load_data()\n",
        "train_labels = to_categorical(train_labels)\n",
        "test_labels = to_categorical(test_labels)\n",
        "train_images, test_images = train_images / 255.0, test_images / 255.0\n",
        "\n",
        "# Model \n",
        "model = Sequential()\n",
        "model.add(Conv2D(32, (3, 3), activation='relu', input_shape=(32, 32, 3)))\n",
        "model.add(Conv2D(64, (3, 3), activation='relu'))\n",
        "model.add(MaxPooling2D((2, 2)))\n",
        "model.add(Dropout(0.2))\n",
        "model.add(Conv2D(64, (3, 3), activation='relu'))\n",
        "model.add(Dropout(0.3))\n",
        "model.add(Conv2D(64, (3, 3), activation='relu'))\n",
        "model.add(Flatten())\n",
        "model.add(Dense(256, activation='relu'))\n",
        "model.add(Dropout(0.5))\n",
        "model.add(Dense(10, activation='softmax'))\n",
        "\n",
        "model.compile(loss='categorical_crossentropy', optimizer='adam', metrics=['acc'])\n",
        "model.summary()"
      ],
      "execution_count": 36,
      "outputs": [
        {
          "output_type": "stream",
          "name": "stdout",
          "text": [
            "Model: \"sequential_6\"\n",
            "_________________________________________________________________\n",
            "Layer (type)                 Output Shape              Param #   \n",
            "=================================================================\n",
            "conv2d_15 (Conv2D)           (None, 30, 30, 32)        896       \n",
            "_________________________________________________________________\n",
            "conv2d_16 (Conv2D)           (None, 28, 28, 64)        18496     \n",
            "_________________________________________________________________\n",
            "max_pooling2d_9 (MaxPooling2 (None, 14, 14, 64)        0         \n",
            "_________________________________________________________________\n",
            "dropout_9 (Dropout)          (None, 14, 14, 64)        0         \n",
            "_________________________________________________________________\n",
            "conv2d_17 (Conv2D)           (None, 12, 12, 64)        36928     \n",
            "_________________________________________________________________\n",
            "dropout_10 (Dropout)         (None, 12, 12, 64)        0         \n",
            "_________________________________________________________________\n",
            "conv2d_18 (Conv2D)           (None, 10, 10, 64)        36928     \n",
            "_________________________________________________________________\n",
            "flatten_5 (Flatten)          (None, 6400)              0         \n",
            "_________________________________________________________________\n",
            "dense_10 (Dense)             (None, 256)               1638656   \n",
            "_________________________________________________________________\n",
            "dropout_11 (Dropout)         (None, 256)               0         \n",
            "_________________________________________________________________\n",
            "dense_11 (Dense)             (None, 10)                2570      \n",
            "=================================================================\n",
            "Total params: 1,734,474\n",
            "Trainable params: 1,734,474\n",
            "Non-trainable params: 0\n",
            "_________________________________________________________________\n"
          ]
        }
      ]
    },
    {
      "cell_type": "code",
      "metadata": {
        "colab": {
          "base_uri": "https://localhost:8080/"
        },
        "id": "QRR1DiuIHapB",
        "outputId": "365323a2-32e9-42ee-ea58-379f46e5ee54"
      },
      "source": [
        "# Train model \n",
        "history = model.fit(train_images, train_labels, batch_size=256, epochs=20, verbose=1, validation_split = 0.1 ).history"
      ],
      "execution_count": 37,
      "outputs": [
        {
          "output_type": "stream",
          "name": "stdout",
          "text": [
            "Epoch 1/20\n",
            "176/176 [==============================] - 9s 42ms/step - loss: 1.8104 - acc: 0.3295 - val_loss: 1.4394 - val_acc: 0.4740\n",
            "Epoch 2/20\n",
            "176/176 [==============================] - 6s 37ms/step - loss: 1.4044 - acc: 0.4958 - val_loss: 1.2101 - val_acc: 0.5724\n",
            "Epoch 3/20\n",
            "176/176 [==============================] - 6s 36ms/step - loss: 1.2280 - acc: 0.5640 - val_loss: 1.0495 - val_acc: 0.6300\n",
            "Epoch 4/20\n",
            "176/176 [==============================] - 6s 37ms/step - loss: 1.0902 - acc: 0.6153 - val_loss: 0.9002 - val_acc: 0.6836\n",
            "Epoch 5/20\n",
            "176/176 [==============================] - 7s 38ms/step - loss: 0.9837 - acc: 0.6546 - val_loss: 0.8959 - val_acc: 0.6892\n",
            "Epoch 6/20\n",
            "176/176 [==============================] - 7s 39ms/step - loss: 0.8987 - acc: 0.6859 - val_loss: 0.7845 - val_acc: 0.7264\n",
            "Epoch 7/20\n",
            "176/176 [==============================] - 7s 39ms/step - loss: 0.8314 - acc: 0.7065 - val_loss: 0.7806 - val_acc: 0.7260\n",
            "Epoch 8/20\n",
            "176/176 [==============================] - 7s 39ms/step - loss: 0.7820 - acc: 0.7277 - val_loss: 0.7573 - val_acc: 0.7402\n",
            "Epoch 9/20\n",
            "176/176 [==============================] - 7s 39ms/step - loss: 0.7390 - acc: 0.7395 - val_loss: 0.7000 - val_acc: 0.7534\n",
            "Epoch 10/20\n",
            "176/176 [==============================] - 7s 39ms/step - loss: 0.7002 - acc: 0.7533 - val_loss: 0.7070 - val_acc: 0.7582\n",
            "Epoch 11/20\n",
            "176/176 [==============================] - 7s 39ms/step - loss: 0.6675 - acc: 0.7622 - val_loss: 0.6868 - val_acc: 0.7614\n",
            "Epoch 12/20\n",
            "176/176 [==============================] - 7s 38ms/step - loss: 0.6360 - acc: 0.7748 - val_loss: 0.6644 - val_acc: 0.7658\n",
            "Epoch 13/20\n",
            "176/176 [==============================] - 7s 38ms/step - loss: 0.6066 - acc: 0.7858 - val_loss: 0.6679 - val_acc: 0.7678\n",
            "Epoch 14/20\n",
            "176/176 [==============================] - 7s 38ms/step - loss: 0.5794 - acc: 0.7946 - val_loss: 0.6598 - val_acc: 0.7734\n",
            "Epoch 15/20\n",
            "176/176 [==============================] - 7s 38ms/step - loss: 0.5580 - acc: 0.8028 - val_loss: 0.6689 - val_acc: 0.7782\n",
            "Epoch 16/20\n",
            "176/176 [==============================] - 7s 38ms/step - loss: 0.5338 - acc: 0.8111 - val_loss: 0.6743 - val_acc: 0.7720\n",
            "Epoch 17/20\n",
            "176/176 [==============================] - 7s 38ms/step - loss: 0.5034 - acc: 0.8205 - val_loss: 0.7060 - val_acc: 0.7730\n",
            "Epoch 18/20\n",
            "176/176 [==============================] - 7s 38ms/step - loss: 0.4870 - acc: 0.8256 - val_loss: 0.7110 - val_acc: 0.7776\n",
            "Epoch 19/20\n",
            "176/176 [==============================] - 7s 38ms/step - loss: 0.4689 - acc: 0.8309 - val_loss: 0.6902 - val_acc: 0.7772\n",
            "Epoch 20/20\n",
            "176/176 [==============================] - 7s 37ms/step - loss: 0.4503 - acc: 0.8377 - val_loss: 0.6915 - val_acc: 0.7806\n"
          ]
        }
      ]
    },
    {
      "cell_type": "code",
      "metadata": {
        "colab": {
          "base_uri": "https://localhost:8080/",
          "height": 336
        },
        "id": "dwMSvEw_H4Rg",
        "outputId": "5cac24ef-ffe4-4212-e29b-2dbc8974c60f"
      },
      "source": [
        "plots(range(1,21), history)"
      ],
      "execution_count": 38,
      "outputs": [
        {
          "output_type": "display_data",
          "data": {
            "image/png": "[encoded data removed]",
            "text/plain": [
              "<Figure size 864x360 with 2 Axes>"
            ]
          },
          "metadata": {
            "needs_background": "light"
          }
        }
      ]
    },
    {
      "cell_type": "code",
      "metadata": {
        "colab": {
          "base_uri": "https://localhost:8080/"
        },
        "id": "tQVaH_aXIK45",
        "outputId": "1bdfb074-272c-4017-bc76-9c4ec68750a0"
      },
      "source": [
        "acc = model.evaluate(test_images,test_labels)\n",
        "print(f' Test Score [Accuracy]: {acc[1]*100:.2f}%')"
      ],
      "execution_count": 39,
      "outputs": [
        {
          "output_type": "stream",
          "name": "stdout",
          "text": [
            "313/313 [==============================] - 2s 6ms/step - loss: 0.7347 - acc: 0.7590\n",
            " Test Score [Accuracy]: 75.90%\n"
          ]
        }
      ]
    }
  ]
}