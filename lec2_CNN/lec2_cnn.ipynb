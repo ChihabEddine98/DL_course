{
  "nbformat": 4,
  "nbformat_minor": 0,
  "metadata": {
    "colab": {
      "name": "lec2_cnn.ipynb",
      "provenance": [],
      "collapsed_sections": [],
      "authorship_tag": "ABX9TyNo5E4c/zcmOBhZ2oe7fGuU",
      "include_colab_link": true
    },
    "kernelspec": {
      "name": "python3",
      "display_name": "Python 3"
    },
    "language_info": {
      "name": "python"
    }
  },
  "cells": [
    {
      "cell_type": "markdown",
      "metadata": {
        "id": "view-in-github",
        "colab_type": "text"
      },
      "source": [
        "<a href=\"https://colab.research.google.com/github/ChihabEddine98/DL_course/blob/main/lec2_cnn.ipynb\" target=\"_parent\"><img src=\"https://colab.research.google.com/assets/colab-badge.svg\" alt=\"Open In Colab\"/></a>"
      ]
    },
    {
      "cell_type": "code",
      "metadata": {
        "id": "nNvL3VycQHWy"
      },
      "source": [
        "# Imports \n",
        "from keras.datasets import mnist\n",
        "from keras.layers import Dense, Flatten, Dropout\n",
        "from keras.layers import Conv2D\n",
        "from tensorflow.keras.utils import to_categorical\n",
        "from keras import Sequential,Input\n",
        "\n",
        "# the data, shuffled and split between train and test sets\n",
        "(x_train, y_train), (x_test, y_test) = mnist.load_data()"
      ],
      "execution_count": 1,
      "outputs": []
    },
    {
      "cell_type": "code",
      "metadata": {
        "colab": {
          "base_uri": "https://localhost:8080/"
        },
        "id": "xYqlgdKXUvsS",
        "outputId": "bb240ed1-50b8-45ca-91a5-3b6f7f0cfa11"
      },
      "source": [
        "# Make input daat from 0 to 1\n",
        "x_train = x_train.astype(\"float32\") / 255\n",
        "x_test = x_test.astype(\"float32\") / 255\n",
        "\n",
        "# convert class vectors to binary class matrices\n",
        "y_train = to_categorical(y_train, 10)\n",
        "y_test = to_categorical(y_test, 10)\n",
        "\n",
        "\n",
        "def CNN():\n",
        "  model = Sequential([Input(shape = (28,28,1)),\n",
        "                      Conv2D(32, kernel_size=(3, 3), activation='relu'),\n",
        "                      Conv2D(64, kernel_size=(3, 3), activation='relu'),\n",
        "                      Dense(128,activation='relu'),\n",
        "                      Flatten(),\n",
        "                      Dropout(0.2),\n",
        "                      Dense(10, activation='softmax')\n",
        "                      ]\n",
        "                      )\n",
        "  \n",
        "  model.compile(loss = 'catgorical_crossentropy', optimizer= 'adadelta',metrics =['acc'])\n",
        "  return model\n",
        "\n",
        "\n",
        "def train(model):\n",
        "  history = model.fit(x_train,x_test ,\n",
        "                      batch_size = 512,\n",
        "                      epochs = 10,\n",
        "                      verbose = 1,\n",
        "                      validation_data = (x_test,y_test))\n",
        "            \n",
        "  return history.history\n",
        "\n",
        "def score(model):\n",
        "  return model.evaluate(x_test,y_test,verbose=0)\n",
        "\n",
        "\n",
        "model = CNN()\n",
        "model.summary()"
      ],
      "execution_count": 2,
      "outputs": [
        {
          "output_type": "stream",
          "name": "stdout",
          "text": [
            "Model: \"sequential\"\n",
            "_________________________________________________________________\n",
            "Layer (type)                 Output Shape              Param #   \n",
            "=================================================================\n",
            "conv2d (Conv2D)              (None, 26, 26, 32)        320       \n",
            "_________________________________________________________________\n",
            "conv2d_1 (Conv2D)            (None, 24, 24, 64)        18496     \n",
            "_________________________________________________________________\n",
            "dense (Dense)                (None, 24, 24, 128)       8320      \n",
            "_________________________________________________________________\n",
            "flatten (Flatten)            (None, 73728)             0         \n",
            "_________________________________________________________________\n",
            "dropout (Dropout)            (None, 73728)             0         \n",
            "_________________________________________________________________\n",
            "dense_1 (Dense)              (None, 10)                737290    \n",
            "=================================================================\n",
            "Total params: 764,426\n",
            "Trainable params: 764,426\n",
            "Non-trainable params: 0\n",
            "_________________________________________________________________\n"
          ]
        }
      ]
    },
    {
      "cell_type": "code",
      "metadata": {
        "colab": {
          "base_uri": "https://localhost:8080/",
          "height": 164
        },
        "id": "XbIT5WCmdPCy",
        "outputId": "ce704b96-29d7-4315-f902-d58497a4e390"
      },
      "source": [
        "history = train(model)"
      ],
      "execution_count": 3,
      "outputs": [
        {
          "output_type": "error",
          "ename": "NameError",
          "evalue": "ignored",
          "traceback": [
            "\u001b[0;31m---------------------------------------------------------------------------\u001b[0m",
            "\u001b[0;31mNameError\u001b[0m                                 Traceback (most recent call last)",
            "\u001b[0;32m<ipython-input-3-9ee4f05dacc9>\u001b[0m in \u001b[0;36m<module>\u001b[0;34m()\u001b[0m\n\u001b[0;32m----> 1\u001b[0;31m \u001b[0mhistory\u001b[0m \u001b[0;34m=\u001b[0m \u001b[0mtrain\u001b[0m\u001b[0;34m(\u001b[0m\u001b[0mmodel\u001b[0m\u001b[0;34m)\u001b[0m\u001b[0;34m\u001b[0m\u001b[0;34m\u001b[0m\u001b[0m\n\u001b[0m",
            "\u001b[0;31mNameError\u001b[0m: name 'train' is not defined"
          ]
        }
      ]
    },
    {
      "cell_type": "code",
      "metadata": {
        "id": "QpXMxy6HVU3P"
      },
      "source": [
        ""
      ],
      "execution_count": 2,
      "outputs": []
    }
  ]
}