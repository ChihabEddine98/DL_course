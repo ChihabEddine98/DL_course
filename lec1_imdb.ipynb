{
  "nbformat": 4,
  "nbformat_minor": 0,
  "metadata": {
    "kernelspec": {
      "display_name": "Python 3",
      "language": "python",
      "name": "python3"
    },
    "language_info": {
      "codemirror_mode": {
        "name": "ipython",
        "version": 2
      },
      "file_extension": ".py",
      "mimetype": "text/x-python",
      "name": "python",
      "nbconvert_exporter": "python",
      "pygments_lexer": "ipython2",
      "version": "2.7.6"
    },
    "colab": {
      "name": "lec1_imdb.ipynb",
      "provenance": []
    },
    "accelerator": "GPU"
  },
  "cells": [
    {
      "cell_type": "code",
      "metadata": {
        "collapsed": true,
        "pycharm": {
          "is_executing": true
        },
        "id": "UkUr5u96LN1W"
      },
      "source": [
        "# Imports\n",
        "import tensorflow as tf\n",
        "import numpy as np\n",
        "from tensorflow import keras\n",
        "from tensorflow.keras.datasets import imdb\n",
        "from sklearn.model_selection import train_test_split"
      ],
      "execution_count": 3,
      "outputs": []
    },
    {
      "cell_type": "code",
      "metadata": {
        "pycharm": {
          "name": "#%%\n"
        },
        "colab": {
          "base_uri": "https://localhost:8080/"
        },
        "id": "ORGQa97eLN1Z",
        "outputId": "421bf6f2-57c8-44fb-bc92-a858aab51623"
      },
      "source": [
        "# data load\n",
        "(train_data, train_labels), (test_data, test_labels) = imdb.load_data(num_words=10000)\n"
      ],
      "execution_count": 4,
      "outputs": [
        {
          "output_type": "stream",
          "name": "stdout",
          "text": [
            "Downloading data from https://storage.googleapis.com/tensorflow/tf-keras-datasets/imdb.npz\n",
            "17465344/17464789 [==============================] - 0s 0us/step\n",
            "17473536/17464789 [==============================] - 0s 0us/step\n"
          ]
        }
      ]
    },
    {
      "cell_type": "code",
      "metadata": {
        "pycharm": {
          "name": "#%%\n"
        },
        "id": "9arTkS1ELN1a"
      },
      "source": [
        "def vectorize_sequences(sequences, dimension=10000):\n",
        "    results = np.zeros((len(sequences), dimension))\n",
        "    for i in range (len (sequences)):\n",
        "        for j in range (len (sequences [i])):\n",
        "            results [i] [sequences [i] [j]] = 1.\n",
        "    return results\n"
      ],
      "execution_count": 5,
      "outputs": []
    },
    {
      "cell_type": "code",
      "metadata": {
        "pycharm": {
          "name": "#%%\n"
        },
        "id": "qcZ8Yy79LN1b"
      },
      "source": [
        "# Data Prepro\n",
        "x_train = vectorize_sequences(train_data)\n",
        "x_test = vectorize_sequences(test_data)\n",
        "y_train = np.asarray(train_labels).astype('float32')\n",
        "y_test = np.asarray(test_labels).astype('float32')"
      ],
      "execution_count": 25,
      "outputs": []
    },
    {
      "cell_type": "code",
      "metadata": {
        "colab": {
          "base_uri": "https://localhost:8080/"
        },
        "id": "WstOvcQfLifi",
        "outputId": "559e8a63-0c4a-4342-f0e2-f96cfc88ec75"
      },
      "source": [
        "# Validation set Split \n",
        "print(x_train.shape)\n",
        "x_train,x_val ,y_train, y_val = train_test_split(x_train,y_train,test_size = 0.3)\n",
        "print(x_train.shape)"
      ],
      "execution_count": 26,
      "outputs": [
        {
          "output_type": "stream",
          "name": "stdout",
          "text": [
            "(25000, 10000)\n",
            "(17500, 10000)\n"
          ]
        }
      ]
    },
    {
      "cell_type": "code",
      "metadata": {
        "pycharm": {
          "name": "#%%\n"
        },
        "id": "88RecXb7LN1c"
      },
      "source": [
        "from tensorflow.keras import regularizers\n",
        "# Model Settings\n",
        "model = keras.Sequential(keras.layers.Dense(16,activation = 'relu' ,kernel_regularizer = regularizers.l2(0.001), input_shape = (x_train.shape[1],)))\n",
        "model.add(keras.layers.Dense(16,activation = 'relu',kernel_regularizer = regularizers.l2(0.001)))\n",
        "model.add(keras.layers.Dense(1,activation = 'sigmoid'))\n",
        "\n",
        "\n",
        "# Optimizer Settings \n",
        "rms = tf.keras.optimizers.RMSprop()\n",
        "\n",
        "model.compile(loss = 'binary_crossentropy' , optimizer = 'rmsprop' , metrics=['acc'])"
      ],
      "execution_count": 50,
      "outputs": []
    },
    {
      "cell_type": "code",
      "metadata": {
        "pycharm": {
          "name": "#%%\n"
        },
        "id": "EBKVSL_3LN1d"
      },
      "source": [
        "# Train the model\n",
        "\n",
        "def train(model):\n",
        "    with tf.device('/device:GPU:0'):\n",
        "       history = model.fit(x_train,y_train,\n",
        "                        epochs = 20,\n",
        "                        batch_size = 512,\n",
        "                        validation_data = (x_val,y_val)\n",
        "                        )\n",
        "    return history"
      ],
      "execution_count": 51,
      "outputs": []
    },
    {
      "cell_type": "code",
      "metadata": {
        "colab": {
          "base_uri": "https://localhost:8080/"
        },
        "id": "_AuTTjkyOCE9",
        "outputId": "7d37b463-c03c-4b7f-f8fb-064eef3379f2"
      },
      "source": [
        "# Train the model \n",
        "history = train(model)"
      ],
      "execution_count": 52,
      "outputs": [
        {
          "output_type": "stream",
          "name": "stdout",
          "text": [
            "Epoch 1/20\n",
            "35/35 [==============================] - 2s 31ms/step - loss: 0.5286 - acc: 0.8113 - val_loss: 0.4128 - val_acc: 0.8740\n",
            "Epoch 2/20\n",
            "35/35 [==============================] - 1s 17ms/step - loss: 0.3422 - acc: 0.9029 - val_loss: 0.3576 - val_acc: 0.8781\n",
            "Epoch 3/20\n",
            "35/35 [==============================] - 1s 17ms/step - loss: 0.2796 - acc: 0.9206 - val_loss: 0.3281 - val_acc: 0.8904\n",
            "Epoch 4/20\n",
            "35/35 [==============================] - 1s 18ms/step - loss: 0.2507 - acc: 0.9321 - val_loss: 0.3395 - val_acc: 0.8835\n",
            "Epoch 5/20\n",
            "35/35 [==============================] - 1s 18ms/step - loss: 0.2292 - acc: 0.9407 - val_loss: 0.3511 - val_acc: 0.8811\n",
            "Epoch 6/20\n",
            "35/35 [==============================] - 1s 18ms/step - loss: 0.2141 - acc: 0.9462 - val_loss: 0.3357 - val_acc: 0.8853\n",
            "Epoch 7/20\n",
            "35/35 [==============================] - 1s 17ms/step - loss: 0.2069 - acc: 0.9493 - val_loss: 0.3469 - val_acc: 0.8835\n",
            "Epoch 8/20\n",
            "35/35 [==============================] - 1s 17ms/step - loss: 0.1982 - acc: 0.9534 - val_loss: 0.3754 - val_acc: 0.8740\n",
            "Epoch 9/20\n",
            "35/35 [==============================] - 1s 18ms/step - loss: 0.1906 - acc: 0.9553 - val_loss: 0.3610 - val_acc: 0.8776\n",
            "Epoch 10/20\n",
            "35/35 [==============================] - 1s 18ms/step - loss: 0.1859 - acc: 0.9570 - val_loss: 0.3946 - val_acc: 0.8703\n",
            "Epoch 11/20\n",
            "35/35 [==============================] - 1s 17ms/step - loss: 0.1785 - acc: 0.9609 - val_loss: 0.3832 - val_acc: 0.8741\n",
            "Epoch 12/20\n",
            "35/35 [==============================] - 1s 17ms/step - loss: 0.1767 - acc: 0.9606 - val_loss: 0.4070 - val_acc: 0.8708\n",
            "Epoch 13/20\n",
            "35/35 [==============================] - 1s 17ms/step - loss: 0.1737 - acc: 0.9619 - val_loss: 0.3981 - val_acc: 0.8724\n",
            "Epoch 14/20\n",
            "35/35 [==============================] - 1s 18ms/step - loss: 0.1664 - acc: 0.9653 - val_loss: 0.4035 - val_acc: 0.8720\n",
            "Epoch 15/20\n",
            "35/35 [==============================] - 1s 18ms/step - loss: 0.1640 - acc: 0.9662 - val_loss: 0.4121 - val_acc: 0.8709\n",
            "Epoch 16/20\n",
            "35/35 [==============================] - 1s 18ms/step - loss: 0.1666 - acc: 0.9635 - val_loss: 0.4131 - val_acc: 0.8731\n",
            "Epoch 17/20\n",
            "35/35 [==============================] - 1s 18ms/step - loss: 0.1581 - acc: 0.9681 - val_loss: 0.4237 - val_acc: 0.8713\n",
            "Epoch 18/20\n",
            "35/35 [==============================] - 1s 18ms/step - loss: 0.1588 - acc: 0.9666 - val_loss: 0.4434 - val_acc: 0.8667\n",
            "Epoch 19/20\n",
            "35/35 [==============================] - 1s 18ms/step - loss: 0.1519 - acc: 0.9700 - val_loss: 0.4316 - val_acc: 0.8705\n",
            "Epoch 20/20\n",
            "35/35 [==============================] - 1s 18ms/step - loss: 0.1476 - acc: 0.9726 - val_loss: 0.4619 - val_acc: 0.8677\n"
          ]
        }
      ]
    },
    {
      "cell_type": "code",
      "metadata": {
        "colab": {
          "base_uri": "https://localhost:8080/",
          "height": 295
        },
        "id": "m8rn_EvmOkHF",
        "outputId": "b85362cd-f377-4d5d-b81c-cc894ae9209e"
      },
      "source": [
        "import matplotlib.pyplot as plt\n",
        "\n",
        "\n",
        "history_dict = history.history\n",
        "loss_values = history_dict['loss']\n",
        "val_loss_values = history_dict['val_loss']\n",
        "epochs = range(1, len(loss_values) + 1)\n",
        "plt.plot(epochs, loss_values, 'r', label='Training loss')\n",
        "plt.plot(epochs, val_loss_values, 'b', label='Validation loss')\n",
        "plt.title('Training and validation loss')\n",
        "plt.xlabel('Epochs')\n",
        "plt.ylabel('Loss')\n",
        "plt.legend()\n",
        "plt.show()"
      ],
      "execution_count": 53,
      "outputs": [
        {
          "output_type": "display_data",
          "data": {
            "image/png": "[encoded data removed]",
            "text/plain": [
              "<Figure size 432x288 with 1 Axes>"
            ]
          },
          "metadata": {
            "needs_background": "light"
          }
        }
      ]
    },
    {
      "cell_type": "code",
      "metadata": {
        "colab": {
          "base_uri": "https://localhost:8080/",
          "height": 295
        },
        "id": "e4mk6S_GPIrG",
        "outputId": "38251deb-c0e8-4071-dc55-edbb1c1b8b2f"
      },
      "source": [
        "plt.clf() #Clears the figure\n",
        "acc = history_dict['acc']\n",
        "val_acc = history_dict['val_acc']\n",
        "plt.plot(epochs, acc, 'r', label='Training acc')\n",
        "plt.plot(epochs, val_acc, 'b', label='Validation acc')\n",
        "plt.title('Training and validation accuracy')\n",
        "plt.xlabel('Epochs')\n",
        "plt.ylabel('Accuracy')\n",
        "plt.legend()\n",
        "plt.show()"
      ],
      "execution_count": 54,
      "outputs": [
        {
          "output_type": "display_data",
          "data": {
            "image/png": "[encoded data removed]",
            "text/plain": [
              "<Figure size 432x288 with 1 Axes>"
            ]
          },
          "metadata": {
            "needs_background": "light"
          }
        }
      ]
    },
    {
      "cell_type": "code",
      "metadata": {
        "id": "pZ6GZ6pERr5n"
      },
      "source": [
        ""
      ],
      "execution_count": null,
      "outputs": []
    }
  ]
}