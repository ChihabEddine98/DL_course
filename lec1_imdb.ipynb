{
  "nbformat": 4,
  "nbformat_minor": 0,
  "metadata": {
    "kernelspec": {
      "display_name": "Python 3",
      "language": "python",
      "name": "python3"
    },
    "language_info": {
      "codemirror_mode": {
        "name": "ipython",
        "version": 2
      },
      "file_extension": ".py",
      "mimetype": "text/x-python",
      "name": "python",
      "nbconvert_exporter": "python",
      "pygments_lexer": "ipython2",
      "version": "2.7.6"
    },
    "colab": {
      "name": "lec1_imdb.ipynb",
      "provenance": []
    },
    "accelerator": "GPU"
  },
  "cells": [
    {
      "cell_type": "code",
      "metadata": {
        "collapsed": true,
        "pycharm": {
          "is_executing": true
        },
        "id": "UkUr5u96LN1W"
      },
      "source": [
        "# Imports\n",
        "import tensorflow as tf\n",
        "import numpy as np\n",
        "from tensorflow import keras\n",
        "from tensorflow.keras.datasets import imdb\n",
        "from sklearn.model_selection import train_test_split"
      ],
      "execution_count": 3,
      "outputs": []
    },
    {
      "cell_type": "code",
      "metadata": {
        "pycharm": {
          "name": "#%%\n"
        },
        "id": "ORGQa97eLN1Z",
        "outputId": "421bf6f2-57c8-44fb-bc92-a858aab51623",
        "colab": {
          "base_uri": "https://localhost:8080/"
        }
      },
      "source": [
        "# data load\n",
        "(train_data, train_labels), (test_data, test_labels) = imdb.load_data(num_words=10000)\n"
      ],
      "execution_count": 4,
      "outputs": [
        {
          "output_type": "stream",
          "name": "stdout",
          "text": [
            "Downloading data from https://storage.googleapis.com/tensorflow/tf-keras-datasets/imdb.npz\n",
            "17465344/17464789 [==============================] - 0s 0us/step\n",
            "17473536/17464789 [==============================] - 0s 0us/step\n"
          ]
        }
      ]
    },
    {
      "cell_type": "code",
      "metadata": {
        "pycharm": {
          "name": "#%%\n"
        },
        "id": "9arTkS1ELN1a"
      },
      "source": [
        "def vectorize_sequences(sequences, dimension=10000):\n",
        "    results = np.zeros((len(sequences), dimension))\n",
        "    for i in range (len (sequences)):\n",
        "        for j in range (len (sequences [i])):\n",
        "            results [i] [sequences [i] [j]] = 1.\n",
        "    return results\n"
      ],
      "execution_count": 5,
      "outputs": []
    },
    {
      "cell_type": "code",
      "metadata": {
        "pycharm": {
          "name": "#%%\n"
        },
        "id": "qcZ8Yy79LN1b"
      },
      "source": [
        "# Data Prepro\n",
        "x_train = vectorize_sequences(train_data)\n",
        "x_test = vectorize_sequences(test_data)\n",
        "y_train = np.asarray(train_labels).astype('float32')\n",
        "y_test = np.asarray(test_labels).astype('float32')"
      ],
      "execution_count": 25,
      "outputs": []
    },
    {
      "cell_type": "code",
      "metadata": {
        "id": "WstOvcQfLifi",
        "outputId": "559e8a63-0c4a-4342-f0e2-f96cfc88ec75",
        "colab": {
          "base_uri": "https://localhost:8080/"
        }
      },
      "source": [
        "# Validation set Split \n",
        "print(x_train.shape)\n",
        "x_train,x_val ,y_train, y_val = train_test_split(x_train,y_train,test_size = 0.3)\n",
        "print(x_train.shape)"
      ],
      "execution_count": 26,
      "outputs": [
        {
          "output_type": "stream",
          "name": "stdout",
          "text": [
            "(25000, 10000)\n",
            "(17500, 10000)\n"
          ]
        }
      ]
    },
    {
      "cell_type": "code",
      "metadata": {
        "pycharm": {
          "name": "#%%\n"
        },
        "id": "88RecXb7LN1c"
      },
      "source": [
        "# Model Settings\n",
        "model = keras.Sequential(keras.layers.Dense(16,activation = 'relu' ,input_shape = (x_train.shape[1],)))\n",
        "model.add(keras.layers.Dense(16,activation = 'relu'))\n",
        "model.add(keras.layers.Dense(1,activation = 'sigmoid'))\n",
        "\n",
        "\n",
        "# Optimizer Settings \n",
        "rms = tf.keras.optimizers.RMSprop()\n",
        "\n",
        "model.compile(loss = 'binary_crossentropy' , optimizer = 'rmsprop' , metrics=['acc'])"
      ],
      "execution_count": 34,
      "outputs": []
    },
    {
      "cell_type": "code",
      "metadata": {
        "pycharm": {
          "name": "#%%\n"
        },
        "id": "EBKVSL_3LN1d"
      },
      "source": [
        "# Train the model\n",
        "\n",
        "def train(model):\n",
        "    with tf.device('/device:GPU:0'):\n",
        "       history = model.fit(x_train,y_train,\n",
        "                        epochs = 20,\n",
        "                        batch_size = 512,\n",
        "                        validation_data = (x_val,y_val)\n",
        "                        )\n",
        "    return history"
      ],
      "execution_count": 35,
      "outputs": []
    },
    {
      "cell_type": "code",
      "metadata": {
        "id": "_AuTTjkyOCE9",
        "outputId": "81aee24d-f731-48bf-ecb8-a4aca6d26188",
        "colab": {
          "base_uri": "https://localhost:8080/"
        }
      },
      "source": [
        "# Train the model \n",
        "history = train(model)"
      ],
      "execution_count": 36,
      "outputs": [
        {
          "output_type": "stream",
          "name": "stdout",
          "text": [
            "Epoch 1/20\n",
            "35/35 [==============================] - 2s 29ms/step - loss: 0.4716 - acc: 0.8081 - val_loss: 0.3741 - val_acc: 0.8509\n",
            "Epoch 2/20\n",
            "35/35 [==============================] - 1s 18ms/step - loss: 0.2734 - acc: 0.9076 - val_loss: 0.2841 - val_acc: 0.8908\n",
            "Epoch 3/20\n",
            "35/35 [==============================] - 1s 18ms/step - loss: 0.2061 - acc: 0.9284 - val_loss: 0.3022 - val_acc: 0.8764\n",
            "Epoch 4/20\n",
            "35/35 [==============================] - 1s 17ms/step - loss: 0.1642 - acc: 0.9443 - val_loss: 0.3046 - val_acc: 0.8785\n",
            "Epoch 5/20\n",
            "35/35 [==============================] - 1s 17ms/step - loss: 0.1352 - acc: 0.9561 - val_loss: 0.2938 - val_acc: 0.8847\n",
            "Epoch 6/20\n",
            "35/35 [==============================] - 1s 17ms/step - loss: 0.1122 - acc: 0.9641 - val_loss: 0.3179 - val_acc: 0.8809\n",
            "Epoch 7/20\n",
            "35/35 [==============================] - 1s 18ms/step - loss: 0.0950 - acc: 0.9704 - val_loss: 0.3589 - val_acc: 0.8729\n",
            "Epoch 8/20\n",
            "35/35 [==============================] - 1s 17ms/step - loss: 0.0784 - acc: 0.9760 - val_loss: 0.4037 - val_acc: 0.8672\n",
            "Epoch 9/20\n",
            "35/35 [==============================] - 1s 17ms/step - loss: 0.0691 - acc: 0.9790 - val_loss: 0.3891 - val_acc: 0.8741\n",
            "Epoch 10/20\n",
            "35/35 [==============================] - 1s 17ms/step - loss: 0.0551 - acc: 0.9852 - val_loss: 0.4178 - val_acc: 0.8711\n",
            "Epoch 11/20\n",
            "35/35 [==============================] - 1s 17ms/step - loss: 0.0492 - acc: 0.9863 - val_loss: 0.4651 - val_acc: 0.8669\n",
            "Epoch 12/20\n",
            "35/35 [==============================] - 1s 18ms/step - loss: 0.0410 - acc: 0.9885 - val_loss: 0.4947 - val_acc: 0.8652\n",
            "Epoch 13/20\n",
            "35/35 [==============================] - 1s 17ms/step - loss: 0.0290 - acc: 0.9943 - val_loss: 0.5254 - val_acc: 0.8651\n",
            "Epoch 14/20\n",
            "35/35 [==============================] - 1s 17ms/step - loss: 0.0299 - acc: 0.9932 - val_loss: 0.5441 - val_acc: 0.8671\n",
            "Epoch 15/20\n",
            "35/35 [==============================] - 1s 17ms/step - loss: 0.0213 - acc: 0.9953 - val_loss: 0.5719 - val_acc: 0.8667\n",
            "Epoch 16/20\n",
            "35/35 [==============================] - 1s 18ms/step - loss: 0.0183 - acc: 0.9965 - val_loss: 0.6117 - val_acc: 0.8647\n",
            "Epoch 17/20\n",
            "35/35 [==============================] - 1s 18ms/step - loss: 0.0148 - acc: 0.9978 - val_loss: 0.6522 - val_acc: 0.8644\n",
            "Epoch 18/20\n",
            "35/35 [==============================] - 1s 17ms/step - loss: 0.0118 - acc: 0.9984 - val_loss: 0.6985 - val_acc: 0.8627\n",
            "Epoch 19/20\n",
            "35/35 [==============================] - 1s 18ms/step - loss: 0.0133 - acc: 0.9962 - val_loss: 0.7305 - val_acc: 0.8627\n",
            "Epoch 20/20\n",
            "35/35 [==============================] - 1s 17ms/step - loss: 0.0074 - acc: 0.9989 - val_loss: 0.7626 - val_acc: 0.8617\n"
          ]
        }
      ]
    },
    {
      "cell_type": "code",
      "metadata": {
        "id": "m8rn_EvmOkHF",
        "outputId": "f0f86f7c-1488-4a58-d679-0c70edf0bc06",
        "colab": {
          "base_uri": "https://localhost:8080/",
          "height": 295
        }
      },
      "source": [
        "import matplotlib.pyplot as plt\n",
        "\n",
        "\n",
        "history_dict = history.history\n",
        "loss_values = history_dict['loss']\n",
        "val_loss_values = history_dict['val_loss']\n",
        "epochs = range(1, len(loss_values) + 1)\n",
        "plt.plot(epochs, loss_values, 'r', label='Training loss')\n",
        "plt.plot(epochs, val_loss_values, 'b', label='Validation loss')\n",
        "plt.title('Training and validation loss')\n",
        "plt.xlabel('Epochs')\n",
        "plt.ylabel('Loss')\n",
        "plt.legend()\n",
        "plt.show()"
      ],
      "execution_count": 37,
      "outputs": [
        {
          "output_type": "display_data",
          "data": {
            "image/png": "[encoded data removed]",
            "text/plain": [
              "<Figure size 432x288 with 1 Axes>"
            ]
          },
          "metadata": {
            "needs_background": "light"
          }
        }
      ]
    },
    {
      "cell_type": "code",
      "metadata": {
        "id": "e4mk6S_GPIrG",
        "outputId": "c9b24624-5239-4bbc-ddc1-49ecad2f37d2",
        "colab": {
          "base_uri": "https://localhost:8080/",
          "height": 295
        }
      },
      "source": [
        "plt.clf() #Clears the figure\n",
        "acc = history_dict['acc']\n",
        "val_acc = history_dict['val_acc']\n",
        "plt.plot(epochs, acc, 'r', label='Training acc')\n",
        "plt.plot(epochs, val_acc, 'b', label='Validation acc')\n",
        "plt.title('Training and validation accuracy')\n",
        "plt.xlabel('Epochs')\n",
        "plt.ylabel('Accuracy')\n",
        "plt.legend()\n",
        "plt.show()"
      ],
      "execution_count": 38,
      "outputs": [
        {
          "output_type": "display_data",
          "data": {
            "image/png": "[encoded data removed]",
            "text/plain": [
              "<Figure size 432x288 with 1 Axes>"
            ]
          },
          "metadata": {
            "needs_background": "light"
          }
        }
      ]
    },
    {
      "cell_type": "code",
      "metadata": {
        "id": "pZ6GZ6pERr5n"
      },
      "source": [
        ""
      ],
      "execution_count": null,
      "outputs": []
    }
  ]
}