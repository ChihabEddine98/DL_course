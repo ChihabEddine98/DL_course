{
  "nbformat": 4,
  "nbformat_minor": 0,
  "metadata": {
    "kernelspec": {
      "display_name": "Python 3",
      "language": "python",
      "name": "python3"
    },
    "language_info": {
      "codemirror_mode": {
        "name": "ipython",
        "version": 2
      },
      "file_extension": ".py",
      "mimetype": "text/x-python",
      "name": "python",
      "nbconvert_exporter": "python",
      "pygments_lexer": "ipython2",
      "version": "2.7.6"
    },
    "colab": {
      "name": "lec1_imdb.ipynb",
      "provenance": [],
      "collapsed_sections": [],
      "include_colab_link": true
    },
    "accelerator": "GPU"
  },
  "cells": [
    {
      "cell_type": "markdown",
      "metadata": {
        "id": "view-in-github",
        "colab_type": "text"
      },
      "source": [
        "<a href=\"https://colab.research.google.com/github/ChihabEddine98/DL_course/blob/main/lec1_imdb.ipynb\" target=\"_parent\"><img src=\"https://colab.research.google.com/assets/colab-badge.svg\" alt=\"Open In Colab\"/></a>"
      ]
    },
    {
      "cell_type": "code",
      "metadata": {
        "collapsed": true,
        "pycharm": {
          "is_executing": true
        },
        "id": "UkUr5u96LN1W"
      },
      "source": [
        "# Imports\n",
        "import tensorflow as tf\n",
        "import numpy as np\n",
        "from tensorflow import keras\n",
        "from tensorflow.keras.datasets import imdb\n",
        "from sklearn.model_selection import train_test_split"
      ],
      "execution_count": 1,
      "outputs": []
    },
    {
      "cell_type": "code",
      "metadata": {
        "pycharm": {
          "name": "#%%\n"
        },
        "colab": {
          "base_uri": "https://localhost:8080/"
        },
        "id": "ORGQa97eLN1Z",
        "outputId": "e39270b0-628e-4da3-e7a3-e0e2585a19e3"
      },
      "source": [
        "# data load\n",
        "(train_data, train_labels), (test_data, test_labels) = imdb.load_data(num_words=10000)\n"
      ],
      "execution_count": 2,
      "outputs": [
        {
          "output_type": "stream",
          "name": "stdout",
          "text": [
            "Downloading data from https://storage.googleapis.com/tensorflow/tf-keras-datasets/imdb.npz\n",
            "17465344/17464789 [==============================] - 0s 0us/step\n",
            "17473536/17464789 [==============================] - 0s 0us/step\n"
          ]
        }
      ]
    },
    {
      "cell_type": "code",
      "metadata": {
        "pycharm": {
          "name": "#%%\n"
        },
        "id": "9arTkS1ELN1a"
      },
      "source": [
        "def vectorize_sequences(sequences, dimension=10000):\n",
        "    results = np.zeros((len(sequences), dimension))\n",
        "    for i in range (len (sequences)):\n",
        "        for j in range (len (sequences [i])):\n",
        "            results [i] [sequences [i] [j]] = 1.\n",
        "    return results\n"
      ],
      "execution_count": 3,
      "outputs": []
    },
    {
      "cell_type": "code",
      "metadata": {
        "pycharm": {
          "name": "#%%\n"
        },
        "id": "qcZ8Yy79LN1b"
      },
      "source": [
        "# Data Prepro\n",
        "x_train = vectorize_sequences(train_data)\n",
        "x_test = vectorize_sequences(test_data)\n",
        "y_train = np.asarray(train_labels).astype('float32')\n",
        "y_test = np.asarray(test_labels).astype('float32')"
      ],
      "execution_count": 4,
      "outputs": []
    },
    {
      "cell_type": "code",
      "metadata": {
        "colab": {
          "base_uri": "https://localhost:8080/"
        },
        "id": "WstOvcQfLifi",
        "outputId": "94ca0960-b143-40a5-9d6c-6308a28749f7"
      },
      "source": [
        "# Validation set Split \n",
        "print(x_train.shape)\n",
        "x_train,x_val ,y_train, y_val = train_test_split(x_train,y_train,test_size = 0.3)\n",
        "print(x_train.shape)"
      ],
      "execution_count": 5,
      "outputs": [
        {
          "output_type": "stream",
          "name": "stdout",
          "text": [
            "(25000, 10000)\n",
            "(17500, 10000)\n"
          ]
        }
      ]
    },
    {
      "cell_type": "code",
      "metadata": {
        "pycharm": {
          "name": "#%%\n"
        },
        "id": "88RecXb7LN1c"
      },
      "source": [
        "from tensorflow.keras import regularizers\n",
        "# Model Settings\n",
        "model = keras.Sequential(keras.layers.Dense(16,activation = 'relu' ,kernel_regularizer = regularizers.l2(0.001), input_shape = (x_train.shape[1],)))\n",
        "model.add(keras.layers.Dense(16,activation = 'relu',kernel_regularizer = regularizers.l2(0.001)))\n",
        "model.add(keras.layers.Dense(1,activation = 'sigmoid'))\n",
        "\n",
        "\n",
        "# Optimizer Settings \n",
        "rms = tf.keras.optimizers.RMSprop()\n",
        "\n",
        "model.compile(loss = 'binary_crossentropy' , optimizer = 'rmsprop' , metrics=['acc'])"
      ],
      "execution_count": 6,
      "outputs": []
    },
    {
      "cell_type": "code",
      "metadata": {
        "pycharm": {
          "name": "#%%\n"
        },
        "id": "EBKVSL_3LN1d"
      },
      "source": [
        "# Train the model\n",
        "\n",
        "def train(model):\n",
        "    with tf.device('/device:GPU:0'):\n",
        "       history = model.fit(x_train,y_train,\n",
        "                        epochs = 20,\n",
        "                        batch_size = 512,\n",
        "                        validation_data = (x_val,y_val)\n",
        "                        )\n",
        "    return history"
      ],
      "execution_count": 7,
      "outputs": []
    },
    {
      "cell_type": "code",
      "metadata": {
        "colab": {
          "base_uri": "https://localhost:8080/"
        },
        "id": "_AuTTjkyOCE9",
        "outputId": "888c6886-572a-4d36-e789-893bf2fa49b9"
      },
      "source": [
        "# Train the model \n",
        "history = train(model)"
      ],
      "execution_count": 8,
      "outputs": [
        {
          "output_type": "stream",
          "name": "stdout",
          "text": [
            "Epoch 1/20\n",
            "35/35 [==============================] - 4s 30ms/step - loss: 0.5529 - acc: 0.7853 - val_loss: 0.4012 - val_acc: 0.8791\n",
            "Epoch 2/20\n",
            "35/35 [==============================] - 1s 17ms/step - loss: 0.3414 - acc: 0.9015 - val_loss: 0.3548 - val_acc: 0.8799\n",
            "Epoch 3/20\n",
            "35/35 [==============================] - 1s 17ms/step - loss: 0.2791 - acc: 0.9227 - val_loss: 0.3198 - val_acc: 0.8935\n",
            "Epoch 4/20\n",
            "35/35 [==============================] - 1s 17ms/step - loss: 0.2445 - acc: 0.9347 - val_loss: 0.3284 - val_acc: 0.8897\n",
            "Epoch 5/20\n",
            "35/35 [==============================] - 1s 18ms/step - loss: 0.2259 - acc: 0.9443 - val_loss: 0.3240 - val_acc: 0.8903\n",
            "Epoch 6/20\n",
            "35/35 [==============================] - 1s 18ms/step - loss: 0.2120 - acc: 0.9465 - val_loss: 0.3565 - val_acc: 0.8765\n",
            "Epoch 7/20\n",
            "35/35 [==============================] - 1s 18ms/step - loss: 0.2052 - acc: 0.9503 - val_loss: 0.3384 - val_acc: 0.8845\n",
            "Epoch 8/20\n",
            "35/35 [==============================] - 1s 18ms/step - loss: 0.1968 - acc: 0.9521 - val_loss: 0.3703 - val_acc: 0.8719\n",
            "Epoch 9/20\n",
            "35/35 [==============================] - 1s 18ms/step - loss: 0.1889 - acc: 0.9559 - val_loss: 0.3563 - val_acc: 0.8780\n",
            "Epoch 10/20\n",
            "35/35 [==============================] - 1s 18ms/step - loss: 0.1828 - acc: 0.9584 - val_loss: 0.3848 - val_acc: 0.8705\n",
            "Epoch 11/20\n",
            "35/35 [==============================] - 1s 18ms/step - loss: 0.1813 - acc: 0.9569 - val_loss: 0.3812 - val_acc: 0.8763\n",
            "Epoch 12/20\n",
            "35/35 [==============================] - 1s 18ms/step - loss: 0.1724 - acc: 0.9630 - val_loss: 0.4362 - val_acc: 0.8561\n",
            "Epoch 13/20\n",
            "35/35 [==============================] - 1s 18ms/step - loss: 0.1744 - acc: 0.9602 - val_loss: 0.4029 - val_acc: 0.8695\n",
            "Epoch 14/20\n",
            "35/35 [==============================] - 1s 19ms/step - loss: 0.1677 - acc: 0.9634 - val_loss: 0.3949 - val_acc: 0.8736\n",
            "Epoch 15/20\n",
            "35/35 [==============================] - 1s 18ms/step - loss: 0.1632 - acc: 0.9665 - val_loss: 0.4670 - val_acc: 0.8584\n",
            "Epoch 16/20\n",
            "35/35 [==============================] - 1s 18ms/step - loss: 0.1609 - acc: 0.9668 - val_loss: 0.4058 - val_acc: 0.8737\n",
            "Epoch 17/20\n",
            "35/35 [==============================] - 1s 17ms/step - loss: 0.1641 - acc: 0.9646 - val_loss: 0.4139 - val_acc: 0.8732\n",
            "Epoch 18/20\n",
            "35/35 [==============================] - 1s 18ms/step - loss: 0.1580 - acc: 0.9676 - val_loss: 0.4462 - val_acc: 0.8608\n",
            "Epoch 19/20\n",
            "35/35 [==============================] - 1s 17ms/step - loss: 0.1517 - acc: 0.9717 - val_loss: 0.4439 - val_acc: 0.8640\n",
            "Epoch 20/20\n",
            "35/35 [==============================] - 1s 18ms/step - loss: 0.1570 - acc: 0.9671 - val_loss: 0.4355 - val_acc: 0.8683\n"
          ]
        }
      ]
    },
    {
      "cell_type": "code",
      "metadata": {
        "colab": {
          "base_uri": "https://localhost:8080/",
          "height": 295
        },
        "id": "m8rn_EvmOkHF",
        "outputId": "229c7abd-6f2c-4185-b236-fed8d1fe3baa"
      },
      "source": [
        "import matplotlib.pyplot as plt\n",
        "\n",
        "\n",
        "history_dict = history.history\n",
        "loss_values = history_dict['loss']\n",
        "val_loss_values = history_dict['val_loss']\n",
        "epochs = range(1, len(loss_values) + 1)\n",
        "plt.plot(epochs, loss_values, 'r', label='Training loss')\n",
        "plt.plot(epochs, val_loss_values, 'b', label='Validation loss')\n",
        "plt.title('Training and validation loss')\n",
        "plt.xlabel('Epochs')\n",
        "plt.ylabel('Loss')\n",
        "plt.legend()\n",
        "plt.show()"
      ],
      "execution_count": 9,
      "outputs": [
        {
          "output_type": "display_data",
          "data": {
            "image/png": "[encoded data removed]",
            "text/plain": [
              "<Figure size 432x288 with 1 Axes>"
            ]
          },
          "metadata": {
            "needs_background": "light"
          }
        }
      ]
    },
    {
      "cell_type": "code",
      "metadata": {
        "colab": {
          "base_uri": "https://localhost:8080/",
          "height": 295
        },
        "id": "e4mk6S_GPIrG",
        "outputId": "1b05bd2c-d1e3-427c-fcca-d8597e233c80"
      },
      "source": [
        "plt.clf() #Clears the figure\n",
        "acc = history_dict['acc']\n",
        "val_acc = history_dict['val_acc']\n",
        "plt.plot(epochs, acc, 'r', label='Training acc')\n",
        "plt.plot(epochs, val_acc, 'b', label='Validation acc')\n",
        "plt.title('Training and validation accuracy')\n",
        "plt.xlabel('Epochs')\n",
        "plt.ylabel('Accuracy')\n",
        "plt.legend()\n",
        "plt.show()"
      ],
      "execution_count": 10,
      "outputs": [
        {
          "output_type": "display_data",
          "data": {
            "image/png": "[encoded data removed]",
            "text/plain": [
              "<Figure size 432x288 with 1 Axes>"
            ]
          },
          "metadata": {
            "needs_background": "light"
          }
        }
      ]
    },
    {
      "cell_type": "code",
      "metadata": {
        "id": "pZ6GZ6pERr5n"
      },
      "source": [
        ""
      ],
      "execution_count": 10,
      "outputs": []
    }
  ]
}