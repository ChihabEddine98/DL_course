{
  "nbformat": 4,
  "nbformat_minor": 0,
  "metadata": {
    "colab": {
      "name": "lec8_lstm.ipynb",
      "provenance": [],
      "collapsed_sections": [],
      "authorship_tag": "ABX9TyPWSTFuFsvHHzw7cmyhv08A",
      "include_colab_link": true
    },
    "kernelspec": {
      "name": "python3",
      "display_name": "Python 3"
    },
    "language_info": {
      "name": "python"
    },
    "accelerator": "GPU"
  },
  "cells": [
    {
      "cell_type": "markdown",
      "metadata": {
        "id": "view-in-github",
        "colab_type": "text"
      },
      "source": [
        "<a href=\"https://colab.research.google.com/github/ChihabEddine98/DL_course/blob/main/lec8_lstm.ipynb\" target=\"_parent\"><img src=\"https://colab.research.google.com/assets/colab-badge.svg\" alt=\"Open In Colab\"/></a>"
      ]
    },
    {
      "cell_type": "code",
      "metadata": {
        "id": "mP6EnzE4ZtY-"
      },
      "source": [
        "import numpy as np\n",
        "import tensorflow as tf\n",
        "from tensorflow.keras import Sequential\n",
        "from tensorflow.keras import layers\n",
        "\n",
        "# lecture des donnees et découpage en sequence de seq_len elements\n",
        "def load_data(filename, seq_len):\n",
        "    f = open(filename, 'rb').read()\n",
        "    data = np.array(f.decode().split('\\n'), dtype = np.float32)\n",
        "    sequence_length = seq_len + 1\n",
        "    result = []\n",
        "    for index in range(len(data) - sequence_length):\n",
        "        result.append(data[index: index + sequence_length])\n",
        "\n",
        "    result = np.array(result)\n",
        "    row = round(0.9 * result.shape[0])\n",
        "    train = result[:int(row), :] # 90 % des exemples pour l’apprentissage\n",
        "    np.random.shuffle(train)\n",
        "    x_train = train[:, :-1] # On prend les séquences jusqu’à l’avant dernier élément\n",
        "    y_train = train[:, -1] # On prend le dernier élément comme sortie à apprendre\n",
        "    x_test = result[int(row):, :-1]\n",
        "    y_test = result[int(row):, -1]\n",
        "    x_train = np.reshape(x_train, (x_train.shape[0], x_train.shape[1], 1))\n",
        "    x_test = np.reshape(x_test, (x_test.shape[0], x_test.shape[1], 1))\n",
        "    return x_train, y_train, x_test, y_test\n"
      ],
      "execution_count": 1,
      "outputs": []
    },
    {
      "cell_type": "code",
      "metadata": {
        "id": "E8RaweTHZ0M6"
      },
      "source": [
        "X_train, y_train, X_test, y_test = load_data ('sample_data/sinwave.csv', 50)\n",
        "\n",
        "# Model\n",
        "model = Sequential()\n",
        "model.add(layers.LSTM(50, input_shape=(50, 1), return_sequences=True))\n",
        "model.add(layers.Dropout(0.2))\n",
        "model.add(layers.LSTM(100, return_sequences=False))\n",
        "model.add(layers.Dropout(0.2))\n",
        "model.add(layers.Dense(1))\n",
        "model.compile(loss=\"mse\", optimizer=\"rmsprop\", metrics = ['mae','acc'])"
      ],
      "execution_count": 6,
      "outputs": []
    },
    {
      "cell_type": "code",
      "metadata": {
        "id": "6RKlY8sDf1HX"
      },
      "source": [
        "def train():\n",
        "  with tf.device('/device:GPU:0'):\n",
        "    return model.fit(X_train, y_train, batch_size=512, epochs=30, validation_split=0.05)"
      ],
      "execution_count": 8,
      "outputs": []
    },
    {
      "cell_type": "code",
      "metadata": {
        "colab": {
          "base_uri": "https://localhost:8080/"
        },
        "id": "0zEzonUpnU8D",
        "outputId": "9a85d373-311a-4266-fab3-527e7baa7c5b"
      },
      "source": [
        "history = train()"
      ],
      "execution_count": 9,
      "outputs": [
        {
          "output_type": "stream",
          "name": "stdout",
          "text": [
            "Epoch 1/30\n",
            "9/9 [==============================] - 0s 54ms/step - loss: 0.0107 - mae: 0.0827 - acc: 0.0000e+00 - val_loss: 0.0029 - val_mae: 0.0457 - val_acc: 0.0000e+00\n",
            "Epoch 2/30\n",
            "9/9 [==============================] - 0s 48ms/step - loss: 0.0135 - mae: 0.0932 - acc: 0.0000e+00 - val_loss: 0.0027 - val_mae: 0.0452 - val_acc: 0.0000e+00\n",
            "Epoch 3/30\n",
            "9/9 [==============================] - 0s 45ms/step - loss: 0.0057 - mae: 0.0606 - acc: 0.0000e+00 - val_loss: 0.0061 - val_mae: 0.0711 - val_acc: 0.0000e+00\n",
            "Epoch 4/30\n",
            "9/9 [==============================] - 0s 43ms/step - loss: 0.0144 - mae: 0.0976 - acc: 0.0000e+00 - val_loss: 0.0031 - val_mae: 0.0488 - val_acc: 0.0000e+00\n",
            "Epoch 5/30\n",
            "9/9 [==============================] - 0s 40ms/step - loss: 0.0078 - mae: 0.0701 - acc: 0.0000e+00 - val_loss: 0.0054 - val_mae: 0.0610 - val_acc: 0.0000e+00\n",
            "Epoch 6/30\n",
            "9/9 [==============================] - 0s 38ms/step - loss: 0.0104 - mae: 0.0831 - acc: 0.0000e+00 - val_loss: 0.0048 - val_mae: 0.0586 - val_acc: 0.0000e+00\n",
            "Epoch 7/30\n",
            "9/9 [==============================] - 0s 38ms/step - loss: 0.0075 - mae: 0.0696 - acc: 0.0000e+00 - val_loss: 0.0096 - val_mae: 0.0856 - val_acc: 0.0000e+00\n",
            "Epoch 8/30\n",
            "9/9 [==============================] - 0s 38ms/step - loss: 0.0099 - mae: 0.0802 - acc: 0.0000e+00 - val_loss: 0.0020 - val_mae: 0.0370 - val_acc: 0.0000e+00\n",
            "Epoch 9/30\n",
            "9/9 [==============================] - 0s 39ms/step - loss: 0.0074 - mae: 0.0663 - acc: 0.0000e+00 - val_loss: 0.0094 - val_mae: 0.0872 - val_acc: 0.0000e+00\n",
            "Epoch 10/30\n",
            "9/9 [==============================] - 0s 38ms/step - loss: 0.0088 - mae: 0.0753 - acc: 0.0000e+00 - val_loss: 0.0072 - val_mae: 0.0716 - val_acc: 0.0000e+00\n",
            "Epoch 11/30\n",
            "9/9 [==============================] - 0s 39ms/step - loss: 0.0079 - mae: 0.0706 - acc: 0.0000e+00 - val_loss: 0.0060 - val_mae: 0.0684 - val_acc: 0.0000e+00\n",
            "Epoch 12/30\n",
            "9/9 [==============================] - 0s 39ms/step - loss: 0.0076 - mae: 0.0694 - acc: 0.0000e+00 - val_loss: 0.0052 - val_mae: 0.0626 - val_acc: 0.0000e+00\n",
            "Epoch 13/30\n",
            "9/9 [==============================] - 0s 37ms/step - loss: 0.0071 - mae: 0.0671 - acc: 0.0000e+00 - val_loss: 0.0071 - val_mae: 0.0731 - val_acc: 0.0000e+00\n",
            "Epoch 14/30\n",
            "9/9 [==============================] - 0s 39ms/step - loss: 0.0084 - mae: 0.0735 - acc: 0.0000e+00 - val_loss: 0.0012 - val_mae: 0.0319 - val_acc: 0.0000e+00\n",
            "Epoch 15/30\n",
            "9/9 [==============================] - 0s 38ms/step - loss: 0.0079 - mae: 0.0699 - acc: 0.0000e+00 - val_loss: 0.0032 - val_mae: 0.0501 - val_acc: 0.0000e+00\n",
            "Epoch 16/30\n",
            "9/9 [==============================] - 0s 37ms/step - loss: 0.0062 - mae: 0.0637 - acc: 0.0000e+00 - val_loss: 0.0066 - val_mae: 0.0734 - val_acc: 0.0000e+00\n",
            "Epoch 17/30\n",
            "9/9 [==============================] - 0s 39ms/step - loss: 0.0078 - mae: 0.0685 - acc: 0.0000e+00 - val_loss: 0.0024 - val_mae: 0.0422 - val_acc: 0.0000e+00\n",
            "Epoch 18/30\n",
            "9/9 [==============================] - 0s 39ms/step - loss: 0.0069 - mae: 0.0658 - acc: 0.0000e+00 - val_loss: 0.0032 - val_mae: 0.0478 - val_acc: 0.0000e+00\n",
            "Epoch 19/30\n",
            "9/9 [==============================] - 0s 38ms/step - loss: 0.0069 - mae: 0.0661 - acc: 0.0000e+00 - val_loss: 0.0071 - val_mae: 0.0756 - val_acc: 0.0000e+00\n",
            "Epoch 20/30\n",
            "9/9 [==============================] - 0s 38ms/step - loss: 0.0078 - mae: 0.0710 - acc: 0.0000e+00 - val_loss: 0.0029 - val_mae: 0.0436 - val_acc: 0.0000e+00\n",
            "Epoch 21/30\n",
            "9/9 [==============================] - 0s 38ms/step - loss: 0.0052 - mae: 0.0564 - acc: 0.0000e+00 - val_loss: 0.0112 - val_mae: 0.0950 - val_acc: 0.0000e+00\n",
            "Epoch 22/30\n",
            "9/9 [==============================] - 0s 38ms/step - loss: 0.0072 - mae: 0.0662 - acc: 0.0000e+00 - val_loss: 0.0013 - val_mae: 0.0325 - val_acc: 0.0000e+00\n",
            "Epoch 23/30\n",
            "9/9 [==============================] - 0s 38ms/step - loss: 0.0067 - mae: 0.0646 - acc: 0.0000e+00 - val_loss: 0.0039 - val_mae: 0.0554 - val_acc: 0.0000e+00\n",
            "Epoch 24/30\n",
            "9/9 [==============================] - 0s 39ms/step - loss: 0.0054 - mae: 0.0572 - acc: 0.0000e+00 - val_loss: 0.0037 - val_mae: 0.0538 - val_acc: 0.0000e+00\n",
            "Epoch 25/30\n",
            "9/9 [==============================] - 0s 38ms/step - loss: 0.0065 - mae: 0.0642 - acc: 0.0000e+00 - val_loss: 0.0016 - val_mae: 0.0372 - val_acc: 0.0000e+00\n",
            "Epoch 26/30\n",
            "9/9 [==============================] - 0s 38ms/step - loss: 0.0059 - mae: 0.0606 - acc: 0.0000e+00 - val_loss: 0.0028 - val_mae: 0.0459 - val_acc: 0.0000e+00\n",
            "Epoch 27/30\n",
            "9/9 [==============================] - 0s 39ms/step - loss: 0.0056 - mae: 0.0587 - acc: 0.0000e+00 - val_loss: 0.0064 - val_mae: 0.0726 - val_acc: 0.0000e+00\n",
            "Epoch 28/30\n",
            "9/9 [==============================] - 0s 38ms/step - loss: 0.0066 - mae: 0.0639 - acc: 0.0000e+00 - val_loss: 0.0035 - val_mae: 0.0488 - val_acc: 0.0000e+00\n",
            "Epoch 29/30\n",
            "9/9 [==============================] - 0s 38ms/step - loss: 0.0061 - mae: 0.0608 - acc: 0.0000e+00 - val_loss: 0.0028 - val_mae: 0.0462 - val_acc: 0.0000e+00\n",
            "Epoch 30/30\n",
            "9/9 [==============================] - 0s 38ms/step - loss: 0.0058 - mae: 0.0604 - acc: 0.0000e+00 - val_loss: 0.0037 - val_mae: 0.0514 - val_acc: 0.0000e+00\n"
          ]
        }
      ]
    },
    {
      "cell_type": "code",
      "metadata": {
        "id": "mVnHqWhqlWTE"
      },
      "source": [
        "predict = model.predict(X_test)"
      ],
      "execution_count": 12,
      "outputs": []
    },
    {
      "cell_type": "code",
      "metadata": {
        "colab": {
          "base_uri": "https://localhost:8080/",
          "height": 593
        },
        "id": "8Slx6fN0ndp3",
        "outputId": "9ed1d5e8-7333-4a15-e1fc-534b3f9128a3"
      },
      "source": [
        "import matplotlib.pyplot as plt\n",
        "\n",
        "\n",
        "plt.plot(range(1,len(predict+1)),predict)"
      ],
      "execution_count": 24,
      "outputs": [
        {
          "output_type": "error",
          "ename": "ValueError",
          "evalue": "ignored",
          "traceback": [
            "\u001b[0;31m---------------------------------------------------------------------------\u001b[0m",
            "\u001b[0;31mValueError\u001b[0m                                Traceback (most recent call last)",
            "\u001b[0;32m<ipython-input-24-0269fe4f5c0d>\u001b[0m in \u001b[0;36m<module>\u001b[0;34m()\u001b[0m\n\u001b[1;32m      2\u001b[0m \u001b[0;34m\u001b[0m\u001b[0m\n\u001b[1;32m      3\u001b[0m \u001b[0;34m\u001b[0m\u001b[0m\n\u001b[0;32m----> 4\u001b[0;31m \u001b[0mplt\u001b[0m\u001b[0;34m.\u001b[0m\u001b[0mplot\u001b[0m\u001b[0;34m(\u001b[0m\u001b[0mrange\u001b[0m\u001b[0;34m(\u001b[0m\u001b[0;36m1\u001b[0m\u001b[0;34m,\u001b[0m\u001b[0mlen\u001b[0m\u001b[0;34m(\u001b[0m\u001b[0mpredict\u001b[0m\u001b[0;34m+\u001b[0m\u001b[0;36m1\u001b[0m\u001b[0;34m)\u001b[0m\u001b[0;34m)\u001b[0m\u001b[0;34m,\u001b[0m\u001b[0mpredict\u001b[0m\u001b[0;34m)\u001b[0m\u001b[0;34m\u001b[0m\u001b[0;34m\u001b[0m\u001b[0m\n\u001b[0m",
            "\u001b[0;32m/usr/local/lib/python3.7/dist-packages/matplotlib/pyplot.py\u001b[0m in \u001b[0;36mplot\u001b[0;34m(scalex, scaley, data, *args, **kwargs)\u001b[0m\n\u001b[1;32m   2761\u001b[0m     return gca().plot(\n\u001b[1;32m   2762\u001b[0m         *args, scalex=scalex, scaley=scaley, **({\"data\": data} if data\n\u001b[0;32m-> 2763\u001b[0;31m         is not None else {}), **kwargs)\n\u001b[0m\u001b[1;32m   2764\u001b[0m \u001b[0;34m\u001b[0m\u001b[0m\n\u001b[1;32m   2765\u001b[0m \u001b[0;34m\u001b[0m\u001b[0m\n",
            "\u001b[0;32m/usr/local/lib/python3.7/dist-packages/matplotlib/axes/_axes.py\u001b[0m in \u001b[0;36mplot\u001b[0;34m(self, scalex, scaley, data, *args, **kwargs)\u001b[0m\n\u001b[1;32m   1645\u001b[0m         \"\"\"\n\u001b[1;32m   1646\u001b[0m         \u001b[0mkwargs\u001b[0m \u001b[0;34m=\u001b[0m \u001b[0mcbook\u001b[0m\u001b[0;34m.\u001b[0m\u001b[0mnormalize_kwargs\u001b[0m\u001b[0;34m(\u001b[0m\u001b[0mkwargs\u001b[0m\u001b[0;34m,\u001b[0m \u001b[0mmlines\u001b[0m\u001b[0;34m.\u001b[0m\u001b[0mLine2D\u001b[0m\u001b[0;34m)\u001b[0m\u001b[0;34m\u001b[0m\u001b[0;34m\u001b[0m\u001b[0m\n\u001b[0;32m-> 1647\u001b[0;31m         \u001b[0mlines\u001b[0m \u001b[0;34m=\u001b[0m \u001b[0;34m[\u001b[0m\u001b[0;34m*\u001b[0m\u001b[0mself\u001b[0m\u001b[0;34m.\u001b[0m\u001b[0m_get_lines\u001b[0m\u001b[0;34m(\u001b[0m\u001b[0;34m*\u001b[0m\u001b[0margs\u001b[0m\u001b[0;34m,\u001b[0m \u001b[0mdata\u001b[0m\u001b[0;34m=\u001b[0m\u001b[0mdata\u001b[0m\u001b[0;34m,\u001b[0m \u001b[0;34m**\u001b[0m\u001b[0mkwargs\u001b[0m\u001b[0;34m)\u001b[0m\u001b[0;34m]\u001b[0m\u001b[0;34m\u001b[0m\u001b[0;34m\u001b[0m\u001b[0m\n\u001b[0m\u001b[1;32m   1648\u001b[0m         \u001b[0;32mfor\u001b[0m \u001b[0mline\u001b[0m \u001b[0;32min\u001b[0m \u001b[0mlines\u001b[0m\u001b[0;34m:\u001b[0m\u001b[0;34m\u001b[0m\u001b[0;34m\u001b[0m\u001b[0m\n\u001b[1;32m   1649\u001b[0m             \u001b[0mself\u001b[0m\u001b[0;34m.\u001b[0m\u001b[0madd_line\u001b[0m\u001b[0;34m(\u001b[0m\u001b[0mline\u001b[0m\u001b[0;34m)\u001b[0m\u001b[0;34m\u001b[0m\u001b[0;34m\u001b[0m\u001b[0m\n",
            "\u001b[0;32m/usr/local/lib/python3.7/dist-packages/matplotlib/axes/_base.py\u001b[0m in \u001b[0;36m__call__\u001b[0;34m(self, *args, **kwargs)\u001b[0m\n\u001b[1;32m    214\u001b[0m                 \u001b[0mthis\u001b[0m \u001b[0;34m+=\u001b[0m \u001b[0margs\u001b[0m\u001b[0;34m[\u001b[0m\u001b[0;36m0\u001b[0m\u001b[0;34m]\u001b[0m\u001b[0;34m,\u001b[0m\u001b[0;34m\u001b[0m\u001b[0;34m\u001b[0m\u001b[0m\n\u001b[1;32m    215\u001b[0m                 \u001b[0margs\u001b[0m \u001b[0;34m=\u001b[0m \u001b[0margs\u001b[0m\u001b[0;34m[\u001b[0m\u001b[0;36m1\u001b[0m\u001b[0;34m:\u001b[0m\u001b[0;34m]\u001b[0m\u001b[0;34m\u001b[0m\u001b[0;34m\u001b[0m\u001b[0m\n\u001b[0;32m--> 216\u001b[0;31m             \u001b[0;32myield\u001b[0m \u001b[0;32mfrom\u001b[0m \u001b[0mself\u001b[0m\u001b[0;34m.\u001b[0m\u001b[0m_plot_args\u001b[0m\u001b[0;34m(\u001b[0m\u001b[0mthis\u001b[0m\u001b[0;34m,\u001b[0m \u001b[0mkwargs\u001b[0m\u001b[0;34m)\u001b[0m\u001b[0;34m\u001b[0m\u001b[0;34m\u001b[0m\u001b[0m\n\u001b[0m\u001b[1;32m    217\u001b[0m \u001b[0;34m\u001b[0m\u001b[0m\n\u001b[1;32m    218\u001b[0m     \u001b[0;32mdef\u001b[0m \u001b[0mget_next_color\u001b[0m\u001b[0;34m(\u001b[0m\u001b[0mself\u001b[0m\u001b[0;34m)\u001b[0m\u001b[0;34m:\u001b[0m\u001b[0;34m\u001b[0m\u001b[0;34m\u001b[0m\u001b[0m\n",
            "\u001b[0;32m/usr/local/lib/python3.7/dist-packages/matplotlib/axes/_base.py\u001b[0m in \u001b[0;36m_plot_args\u001b[0;34m(self, tup, kwargs)\u001b[0m\n\u001b[1;32m    340\u001b[0m \u001b[0;34m\u001b[0m\u001b[0m\n\u001b[1;32m    341\u001b[0m         \u001b[0;32mif\u001b[0m \u001b[0mx\u001b[0m\u001b[0;34m.\u001b[0m\u001b[0mshape\u001b[0m\u001b[0;34m[\u001b[0m\u001b[0;36m0\u001b[0m\u001b[0;34m]\u001b[0m \u001b[0;34m!=\u001b[0m \u001b[0my\u001b[0m\u001b[0;34m.\u001b[0m\u001b[0mshape\u001b[0m\u001b[0;34m[\u001b[0m\u001b[0;36m0\u001b[0m\u001b[0;34m]\u001b[0m\u001b[0;34m:\u001b[0m\u001b[0;34m\u001b[0m\u001b[0;34m\u001b[0m\u001b[0m\n\u001b[0;32m--> 342\u001b[0;31m             raise ValueError(f\"x and y must have same first dimension, but \"\n\u001b[0m\u001b[1;32m    343\u001b[0m                              f\"have shapes {x.shape} and {y.shape}\")\n\u001b[1;32m    344\u001b[0m         \u001b[0;32mif\u001b[0m \u001b[0mx\u001b[0m\u001b[0;34m.\u001b[0m\u001b[0mndim\u001b[0m \u001b[0;34m>\u001b[0m \u001b[0;36m2\u001b[0m \u001b[0;32mor\u001b[0m \u001b[0my\u001b[0m\u001b[0;34m.\u001b[0m\u001b[0mndim\u001b[0m \u001b[0;34m>\u001b[0m \u001b[0;36m2\u001b[0m\u001b[0;34m:\u001b[0m\u001b[0;34m\u001b[0m\u001b[0;34m\u001b[0m\u001b[0m\n",
            "\u001b[0;31mValueError\u001b[0m: x and y must have same first dimension, but have shapes (494,) and (495, 1)"
          ]
        },
        {
          "output_type": "display_data",
          "data": {
            "image/png": "[encoded data removed]",
            "text/plain": [
              "<Figure size 432x288 with 1 Axes>"
            ]
          },
          "metadata": {
            "needs_background": "light"
          }
        }
      ]
    },
    {
      "cell_type": "code",
      "metadata": {
        "id": "ShpAab2cnrS5"
      },
      "source": [
        ""
      ],
      "execution_count": null,
      "outputs": []
    }
  ]
}