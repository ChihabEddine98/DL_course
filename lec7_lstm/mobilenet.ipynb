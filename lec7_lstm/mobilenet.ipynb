{
 "cells": [
  {
   "cell_type": "markdown",
   "metadata": {},
   "source": [
    "# MobileNet Block"
   ]
  },
  {
   "cell_type": "code",
   "execution_count": 1,
   "metadata": {},
   "outputs": [],
   "source": [
    "import tensorflow as tf\n",
    "from tensorflow.keras import layers\n",
    "\n",
    "\n",
    "\n",
    "def bottleneck_block(x, expand=96, squeeze=16):\n",
    "    m = layers.Conv2D(expand, (1,1), kernel_regularizer=tf.keras.regularizers.l2(0.0001), use_bias = False)(x)\n",
    "    m = layers.BatchNormalization()(m)\n",
    "    m = layers.Activation('relu')(m)\n",
    "    m = layers.DepthwiseConv2D((3,3), padding='same', kernel_regularizer=tf.keras.regularizers.l2(0.0001), use_bias = False)(m)\n",
    "    m = layers.BatchNormalization()(m)\n",
    "    m = layers.Activation('relu')(m)\n",
    "    m = layers.Conv2D(squeeze, (1,1), kernel_regularizer=tf.keras.regularizers.l2(0.0001), use_bias = False)(m)\n",
    "    m = layers.BatchNormalization()(m)\n",
    "\n",
    "    return layers.Add()([m, x])\n",
    "\n",
    "\n",
    "input = layers.Input(shape=(32, 32, 3))\n",
    "x = layers.Conv2D(16, 1, activation='relu', padding='same')(input)\n",
    "for i in range (5):\n",
    "    x = bottleneck_block(x)\n",
    "flatten = layers.Flatten()(x)\n",
    "dense = layers.Dense(10, activation=\"softmax\")(flatten)\n",
    "model = tf.keras.models.Model(inputs=input, outputs=dense)\n",
    "\n",
    "\n",
    "(x_train, y_train), (x_test, y_test) = tf.keras.datasets.cifar10.load_data()\n",
    "x_train = x_train.astype('float32') / 255.\n",
    "x_test = x_test.astype('float32') / 255.\n",
    "y_train = tf.keras.utils.to_categorical(y_train, 10)\n",
    "y_test = tf.keras.utils.to_categorical(y_test, 10)\n",
    " \n",
    "model.compile(optimizer=tf.keras.optimizers.RMSprop(1e-3),\n",
    "              loss='categorical_crossentropy',\n",
    "              metrics=['acc'])\n",
    "model.fit(x_train, y_train,\n",
    "          batch_size=64,\n",
    "          epochs=1,\n",
    "          validation_split=0.2)\n",
    "\n",
    "print(model.evaluate(x_test,y_test))"
   ]
  },
  {
   "cell_type": "markdown",
   "metadata": {},
   "source": [
    "# ShuffleNet Architecture"
   ]
  },
  {
   "cell_type": "code",
   "execution_count": null,
   "metadata": {},
   "outputs": [],
   "source": []
  },
  {
   "cell_type": "code",
   "execution_count": null,
   "metadata": {},
   "outputs": [],
   "source": []
  }
 ],
 "metadata": {
  "interpreter": {
   "hash": "082e9a3bcad0a290d0001e938aa60b99250c6c2ef33a923c00b70f9826caf4b7"
  },
  "kernelspec": {
   "display_name": "Python 3.8.6 64-bit",
   "name": "python3"
  },
  "language_info": {
   "codemirror_mode": {
    "name": "ipython",
    "version": 3
   },
   "file_extension": ".py",
   "mimetype": "text/x-python",
   "name": "python",
   "nbconvert_exporter": "python",
   "pygments_lexer": "ipython3",
   "version": "3.8.6"
  },
  "orig_nbformat": 4
 },
 "nbformat": 4,
 "nbformat_minor": 2
}
