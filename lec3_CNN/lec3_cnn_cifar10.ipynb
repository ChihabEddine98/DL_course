{
  "nbformat": 4,
  "nbformat_minor": 0,
  "metadata": {
    "colab": {
      "name": "lec2_cnn.ipynb",
      "provenance": [],
      "collapsed_sections": []
    },
    "kernelspec": {
      "name": "python3",
      "display_name": "Python 3"
    },
    "language_info": {
      "name": "python"
    },
    "accelerator": "GPU"
  },
  "cells": [
    {
      "cell_type": "code",
      "metadata": {
        "id": "nNvL3VycQHWy"
      },
      "source": [
        "# Imports \n",
        "import tensorflow as tf\n",
        "from keras.datasets import mnist\n",
        "from keras.layers import Dense, Flatten, Dropout,MaxPooling2D\n",
        "from keras.layers import Conv2D\n",
        "from tensorflow.keras.utils import to_categorical\n",
        "from keras import Sequential,Input\n",
        "\n",
        "# the data, shuffled and split between train and test sets\n",
        "(x_train, y_train), (x_test, y_test) = mnist.load_data()"
      ],
      "execution_count": 1,
      "outputs": []
    },
    {
      "cell_type": "code",
      "metadata": {
        "colab": {
          "base_uri": "https://localhost:8080/"
        },
        "id": "xYqlgdKXUvsS",
        "outputId": "f527df5c-a22e-45dc-c8b7-318c4d6ea7a4"
      },
      "source": [
        "# Make input daat from 0 to 1\n",
        "x_train = x_train.astype(\"float32\") / 255\n",
        "x_test = x_test.astype(\"float32\") / 255\n",
        "x_train = x_train.reshape(60000,28,28,1)\n",
        "x_test = x_test.reshape(10000,28,28,1)\n",
        "#print(f'{x_train.shape}')\n",
        "\n",
        "# convert class vectors to binary class matrices\n",
        "y_train = to_categorical(y_train, 10)\n",
        "y_test = to_categorical(y_test, 10)\n",
        "\n",
        "\n",
        "def CNN():\n",
        "  model = Sequential([\n",
        "                      Conv2D(32, kernel_size=(3, 3), activation='relu' , input_shape = (28,28,1)),\n",
        "                      Conv2D(64, kernel_size=(3, 3), activation='relu'),\n",
        "                      MaxPooling2D(pool_size=(2,2)),\n",
        "                      Dropout(0.2),\n",
        "                      Flatten(),\n",
        "                      Dense(128,activation='relu'),\n",
        "                      Dropout(0.5),\n",
        "                      Dense(10, activation='softmax')\n",
        "                      ]\n",
        "                      )\n",
        "  \n",
        "  model.compile(loss = 'categorical_crossentropy', optimizer= 'adam',metrics =['acc' , 'mse'])\n",
        "  return model\n",
        "\n",
        "\n",
        "def train(model):\n",
        "  with tf.device('/device:GPU:0'):\n",
        "      history = model.fit(x_train,y_train ,\n",
        "                          batch_size = 256,\n",
        "                          epochs = 10,\n",
        "                          verbose = 1,\n",
        "                          validation_split = 0.1)\n",
        "            \n",
        "  return history.history\n",
        "\n",
        "def score(model):\n",
        "  return model.evaluate(x_test,y_test,verbose=0)\n",
        "\n",
        "print(x_train.shape)\n",
        "model = CNN()\n",
        "model.summary()"
      ],
      "execution_count": 2,
      "outputs": [
        {
          "output_type": "stream",
          "name": "stdout",
          "text": [
            "(60000, 28, 28, 1)\n",
            "Model: \"sequential\"\n",
            "_________________________________________________________________\n",
            "Layer (type)                 Output Shape              Param #   \n",
            "=================================================================\n",
            "conv2d (Conv2D)              (None, 26, 26, 32)        320       \n",
            "_________________________________________________________________\n",
            "conv2d_1 (Conv2D)            (None, 24, 24, 64)        18496     \n",
            "_________________________________________________________________\n",
            "max_pooling2d (MaxPooling2D) (None, 12, 12, 64)        0         \n",
            "_________________________________________________________________\n",
            "dropout (Dropout)            (None, 12, 12, 64)        0         \n",
            "_________________________________________________________________\n",
            "flatten (Flatten)            (None, 9216)              0         \n",
            "_________________________________________________________________\n",
            "dense (Dense)                (None, 128)               1179776   \n",
            "_________________________________________________________________\n",
            "dropout_1 (Dropout)          (None, 128)               0         \n",
            "_________________________________________________________________\n",
            "dense_1 (Dense)              (None, 10)                1290      \n",
            "=================================================================\n",
            "Total params: 1,199,882\n",
            "Trainable params: 1,199,882\n",
            "Non-trainable params: 0\n",
            "_________________________________________________________________\n"
          ]
        }
      ]
    },
    {
      "cell_type": "code",
      "metadata": {
        "id": "XbIT5WCmdPCy",
        "colab": {
          "base_uri": "https://localhost:8080/"
        },
        "outputId": "7526a7e8-804d-418e-fef4-a4558a82e3d8"
      },
      "source": [
        "history = train(model)"
      ],
      "execution_count": 3,
      "outputs": [
        {
          "output_type": "stream",
          "name": "stdout",
          "text": [
            "Epoch 1/10\n",
            "211/211 [==============================] - 12s 26ms/step - loss: 0.3278 - acc: 0.8997 - mse: 0.0147 - val_loss: 0.0672 - val_acc: 0.9818 - val_mse: 0.0029\n",
            "Epoch 2/10\n",
            "211/211 [==============================] - 5s 23ms/step - loss: 0.1011 - acc: 0.9690 - mse: 0.0047 - val_loss: 0.0459 - val_acc: 0.9877 - val_mse: 0.0019\n",
            "Epoch 3/10\n",
            "211/211 [==============================] - 5s 23ms/step - loss: 0.0720 - acc: 0.9787 - mse: 0.0033 - val_loss: 0.0426 - val_acc: 0.9892 - val_mse: 0.0017\n",
            "Epoch 4/10\n",
            "211/211 [==============================] - 5s 23ms/step - loss: 0.0583 - acc: 0.9823 - mse: 0.0027 - val_loss: 0.0390 - val_acc: 0.9903 - val_mse: 0.0015\n",
            "Epoch 5/10\n",
            "211/211 [==============================] - 5s 23ms/step - loss: 0.0506 - acc: 0.9847 - mse: 0.0024 - val_loss: 0.0344 - val_acc: 0.9907 - val_mse: 0.0015\n",
            "Epoch 6/10\n",
            "211/211 [==============================] - 5s 23ms/step - loss: 0.0433 - acc: 0.9864 - mse: 0.0021 - val_loss: 0.0323 - val_acc: 0.9913 - val_mse: 0.0014\n",
            "Epoch 7/10\n",
            "211/211 [==============================] - 5s 23ms/step - loss: 0.0395 - acc: 0.9878 - mse: 0.0019 - val_loss: 0.0325 - val_acc: 0.9918 - val_mse: 0.0013\n",
            "Epoch 8/10\n",
            "211/211 [==============================] - 5s 23ms/step - loss: 0.0334 - acc: 0.9896 - mse: 0.0016 - val_loss: 0.0330 - val_acc: 0.9918 - val_mse: 0.0013\n",
            "Epoch 9/10\n",
            "211/211 [==============================] - 5s 23ms/step - loss: 0.0337 - acc: 0.9893 - mse: 0.0017 - val_loss: 0.0340 - val_acc: 0.9907 - val_mse: 0.0014\n",
            "Epoch 10/10\n",
            "211/211 [==============================] - 5s 23ms/step - loss: 0.0288 - acc: 0.9900 - mse: 0.0015 - val_loss: 0.0340 - val_acc: 0.9917 - val_mse: 0.0013\n"
          ]
        }
      ]
    },
    {
      "cell_type": "code",
      "metadata": {
        "id": "QpXMxy6HVU3P",
        "colab": {
          "base_uri": "https://localhost:8080/",
          "height": 336
        },
        "outputId": "c4f444d7-ca38-4aa1-83ff-2e09b4cfaa89"
      },
      "source": [
        "%matplotlib inline\n",
        "import matplotlib.pyplot as plt\n",
        "\n",
        "\n",
        "def plots(epochs , history):\n",
        "    fig,ax = plt.subplots(1,2)\n",
        "    fig.set_size_inches((12,5))\n",
        "    ax[0].plot(epochs, history['acc'] , 'g' , label = 'Train acc')\n",
        "    ax[0].plot(epochs, history['val_acc'],'m',label = 'Val acc')\n",
        "    ax[0].set_title('Accuracy History ')\n",
        "    ax[0].legend()\n",
        "\n",
        "    ax[1].plot(epochs, history['loss'] , 'r',label = 'Train loss')\n",
        "    ax[1].plot(epochs, history['val_loss'],'c',label = 'Val loss')\n",
        "    ax[1].set_title('Loss History ')\n",
        "    ax[1].legend()\n",
        "\n",
        "    fig.show()\n",
        "\n",
        "\n",
        "epochs = range(1,11)\n",
        "plots(epochs,history)\n",
        "\n",
        "\n",
        "\n"
      ],
      "execution_count": 4,
      "outputs": [
        {
          "output_type": "display_data",
          "data": {
            "image/png": "[encoded data removed]",
            "text/plain": [
              "<Figure size 864x360 with 2 Axes>"
            ]
          },
          "metadata": {
            "needs_background": "light"
          }
        }
      ]
    },
    {
      "cell_type": "code",
      "metadata": {
        "colab": {
          "base_uri": "https://localhost:8080/"
        },
        "id": "w24v5MItDQ_F",
        "outputId": "4b03a430-e2a9-4110-a806-77b957261845"
      },
      "source": [
        "acc = score(model)\n",
        "print(f' Test Score [Accuracy]: {acc[1]*100:.2f}%')"
      ],
      "execution_count": 5,
      "outputs": [
        {
          "output_type": "stream",
          "name": "stdout",
          "text": [
            " Test Score [Accuracy]: 99.16%\n"
          ]
        }
      ]
    },
    {
      "cell_type": "markdown",
      "metadata": {
        "id": "FFQeRYSjGuKH"
      },
      "source": [
        "# CIFAR10 dataset"
      ]
    },
    {
      "cell_type": "code",
      "metadata": {
        "colab": {
          "base_uri": "https://localhost:8080/"
        },
        "id": "P9tNb_IrGyaO",
        "outputId": "d16baa5d-f57f-4583-eea2-6a6574b37d13"
      },
      "source": [
        "from tensorflow.keras.datasets import cifar10\n",
        "# Load Data\n",
        "(train_images, train_labels), (test_images, test_labels) = cifar10.load_data()\n",
        "train_labels = to_categorical(train_labels)\n",
        "test_labels = to_categorical(test_labels)\n",
        "train_images, test_images = train_images / 255.0, test_images / 255.0\n",
        "\n",
        "# Model \n",
        "model = Sequential()\n",
        "model.add(Conv2D(32, (3, 3), activation='relu', input_shape=(32, 32, 3)))\n",
        "model.add(Conv2D(64, (3, 3), activation='relu'))\n",
        "model.add(MaxPooling2D((2, 2)))\n",
        "model.add(Dropout(0.2))\n",
        "model.add(Conv2D(64, (3, 3), activation='relu'))\n",
        "model.add(Dropout(0.3))\n",
        "model.add(Conv2D(64, (3, 3), activation='relu'))\n",
        "model.add(Flatten())\n",
        "model.add(Dense(256, activation='relu'))\n",
        "model.add(Dropout(0.5))\n",
        "model.add(Dense(10, activation='softmax'))\n",
        "\n",
        "model.compile(loss='categorical_crossentropy', optimizer='adam', metrics=['acc'])\n",
        "model.summary()"
      ],
      "execution_count": 6,
      "outputs": [
        {
          "output_type": "stream",
          "name": "stdout",
          "text": [
            "Model: \"sequential_1\"\n",
            "_________________________________________________________________\n",
            "Layer (type)                 Output Shape              Param #   \n",
            "=================================================================\n",
            "conv2d_2 (Conv2D)            (None, 30, 30, 32)        896       \n",
            "_________________________________________________________________\n",
            "conv2d_3 (Conv2D)            (None, 28, 28, 64)        18496     \n",
            "_________________________________________________________________\n",
            "max_pooling2d_1 (MaxPooling2 (None, 14, 14, 64)        0         \n",
            "_________________________________________________________________\n",
            "dropout_2 (Dropout)          (None, 14, 14, 64)        0         \n",
            "_________________________________________________________________\n",
            "conv2d_4 (Conv2D)            (None, 12, 12, 64)        36928     \n",
            "_________________________________________________________________\n",
            "dropout_3 (Dropout)          (None, 12, 12, 64)        0         \n",
            "_________________________________________________________________\n",
            "conv2d_5 (Conv2D)            (None, 10, 10, 64)        36928     \n",
            "_________________________________________________________________\n",
            "flatten_1 (Flatten)          (None, 6400)              0         \n",
            "_________________________________________________________________\n",
            "dense_2 (Dense)              (None, 256)               1638656   \n",
            "_________________________________________________________________\n",
            "dropout_4 (Dropout)          (None, 256)               0         \n",
            "_________________________________________________________________\n",
            "dense_3 (Dense)              (None, 10)                2570      \n",
            "=================================================================\n",
            "Total params: 1,734,474\n",
            "Trainable params: 1,734,474\n",
            "Non-trainable params: 0\n",
            "_________________________________________________________________\n"
          ]
        }
      ]
    },
    {
      "cell_type": "code",
      "metadata": {
        "colab": {
          "base_uri": "https://localhost:8080/"
        },
        "id": "QRR1DiuIHapB",
        "outputId": "907fb317-acfe-4d8a-83e5-3ee8333c0684"
      },
      "source": [
        "# Train model \n",
        "history = model.fit(train_images, train_labels, batch_size=256, epochs=10, verbose=1, validation_split = 0.1).history"
      ],
      "execution_count": 7,
      "outputs": [
        {
          "output_type": "stream",
          "name": "stdout",
          "text": [
            "Epoch 1/10\n",
            "176/176 [==============================] - 8s 41ms/step - loss: 1.7473 - acc: 0.3587 - val_loss: 1.3774 - val_acc: 0.5026\n",
            "Epoch 2/10\n",
            "176/176 [==============================] - 6s 37ms/step - loss: 1.3390 - acc: 0.5214 - val_loss: 1.1195 - val_acc: 0.6046\n",
            "Epoch 3/10\n",
            "176/176 [==============================] - 7s 37ms/step - loss: 1.1629 - acc: 0.5896 - val_loss: 1.0064 - val_acc: 0.6530\n",
            "Epoch 4/10\n",
            "176/176 [==============================] - 7s 37ms/step - loss: 1.0447 - acc: 0.6324 - val_loss: 0.8873 - val_acc: 0.6830\n",
            "Epoch 5/10\n",
            "176/176 [==============================] - 7s 37ms/step - loss: 0.9602 - acc: 0.6645 - val_loss: 0.8284 - val_acc: 0.7086\n",
            "Epoch 6/10\n",
            "176/176 [==============================] - 7s 37ms/step - loss: 0.8868 - acc: 0.6921 - val_loss: 0.7922 - val_acc: 0.7244\n",
            "Epoch 7/10\n",
            "176/176 [==============================] - 7s 37ms/step - loss: 0.8284 - acc: 0.7085 - val_loss: 0.7848 - val_acc: 0.7250\n",
            "Epoch 8/10\n",
            "176/176 [==============================] - 6s 37ms/step - loss: 0.7876 - acc: 0.7227 - val_loss: 0.7310 - val_acc: 0.7452\n",
            "Epoch 9/10\n",
            "176/176 [==============================] - 7s 37ms/step - loss: 0.7399 - acc: 0.7376 - val_loss: 0.7023 - val_acc: 0.7594\n",
            "Epoch 10/10\n",
            "176/176 [==============================] - 6s 37ms/step - loss: 0.7101 - acc: 0.7490 - val_loss: 0.7015 - val_acc: 0.7590\n"
          ]
        }
      ]
    },
    {
      "cell_type": "code",
      "metadata": {
        "colab": {
          "base_uri": "https://localhost:8080/",
          "height": 336
        },
        "id": "dwMSvEw_H4Rg",
        "outputId": "76e08941-2248-457d-97e8-de17d206fa5b"
      },
      "source": [
        "plots(range(1,11), history)"
      ],
      "execution_count": 8,
      "outputs": [
        {
          "output_type": "display_data",
          "data": {
            "image/png": "[encoded data removed]",
            "text/plain": [
              "<Figure size 864x360 with 2 Axes>"
            ]
          },
          "metadata": {
            "needs_background": "light"
          }
        }
      ]
    },
    {
      "cell_type": "code",
      "metadata": {
        "colab": {
          "base_uri": "https://localhost:8080/"
        },
        "id": "tQVaH_aXIK45",
        "outputId": "d2ccf596-99ca-41ec-f422-1ff8014ca485"
      },
      "source": [
        "acc = model.evaluate(test_images,test_labels)\n",
        "print(f' Test Score [Accuracy]: {acc[1]*100:.2f}%')"
      ],
      "execution_count": 9,
      "outputs": [
        {
          "output_type": "stream",
          "name": "stdout",
          "text": [
            "313/313 [==============================] - 2s 7ms/step - loss: 0.7469 - acc: 0.7424\n",
            " Test Score [Accuracy]: 74.24%\n"
          ]
        }
      ]
    }
  ]
}