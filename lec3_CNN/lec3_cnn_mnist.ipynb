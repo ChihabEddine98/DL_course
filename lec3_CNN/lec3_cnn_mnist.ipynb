{
  "nbformat": 4,
  "nbformat_minor": 0,
  "metadata": {
    "colab": {
      "name": "lec2_cnn.ipynb",
      "provenance": [],
      "collapsed_sections": [],
      "authorship_tag": "ABX9TyM6JfiZdIUd7s09+iQ8y5Ms",
      "include_colab_link": true
    },
    "kernelspec": {
      "name": "python3",
      "display_name": "Python 3"
    },
    "language_info": {
      "name": "python"
    },
    "accelerator": "GPU"
  },
  "cells": [
    {
      "cell_type": "markdown",
      "metadata": {
        "id": "view-in-github",
        "colab_type": "text"
      },
      "source": [
        "<a href=\"https://colab.research.google.com/github/ChihabEddine98/DL_course/blob/main/lec2_cnn.ipynb\" target=\"_parent\"><img src=\"https://colab.research.google.com/assets/colab-badge.svg\" alt=\"Open In Colab\"/></a>"
      ]
    },
    {
      "cell_type": "code",
      "metadata": {
        "id": "nNvL3VycQHWy"
      },
      "source": [
        "# Imports \n",
        "import tensorflow as tf\n",
        "from keras.datasets import mnist\n",
        "from keras.layers import Dense, Flatten, Dropout,MaxPooling2D\n",
        "from keras.layers import Conv2D\n",
        "from tensorflow.keras.utils import to_categorical\n",
        "from keras import Sequential,Input\n",
        "\n",
        "# the data, shuffled and split between train and test sets\n",
        "(x_train, y_train), (x_test, y_test) = mnist.load_data()"
      ],
      "execution_count": 1,
      "outputs": []
    },
    {
      "cell_type": "code",
      "metadata": {
        "colab": {
          "base_uri": "https://localhost:8080/"
        },
        "id": "xYqlgdKXUvsS",
        "outputId": "f10086b4-ede0-425b-e2f1-b299664c8fe1"
      },
      "source": [
        "# Make input daat from 0 to 1\n",
        "x_train = x_train.astype(\"float32\") / 255\n",
        "x_test = x_test.astype(\"float32\") / 255\n",
        "x_train = x_train.reshape(60000,28,28,1)\n",
        "x_test = x_test.reshape(10000,28,28,1)\n",
        "#print(f'{x_train.shape}')\n",
        "\n",
        "# convert class vectors to binary class matrices\n",
        "y_train = to_categorical(y_train, 10)\n",
        "y_test = to_categorical(y_test, 10)\n",
        "\n",
        "\n",
        "def CNN():\n",
        "  model = Sequential([\n",
        "                      Conv2D(32, kernel_size=(3, 3), activation='relu' , input_shape = (28,28,1)),\n",
        "                      Conv2D(64, kernel_size=(3, 3), activation='relu'),\n",
        "                      MaxPooling2D(pool_size=(2,2)),\n",
        "                      Dropout(0.2),\n",
        "                      Flatten(),\n",
        "                      Dense(128,activation='relu'),\n",
        "                      Dropout(0.5),\n",
        "                      Dense(10, activation='softmax')\n",
        "                      ]\n",
        "                      )\n",
        "  \n",
        "  model.compile(loss = 'categorical_crossentropy', optimizer= 'adam',metrics =['acc' , 'mse'])\n",
        "  return model\n",
        "\n",
        "\n",
        "def train(model):\n",
        "  with tf.device('/device:GPU:0'):\n",
        "      history = model.fit(x_train,y_train ,\n",
        "                          batch_size = 256,\n",
        "                          epochs = 10,\n",
        "                          verbose = 1,\n",
        "                          validation_split = 0.1)\n",
        "            \n",
        "  return history.history\n",
        "\n",
        "def score(model):\n",
        "  return model.evaluate(x_test,y_test,verbose=0)\n",
        "\n",
        "print(x_train.shape)\n",
        "model = CNN()\n",
        "model.summary()"
      ],
      "execution_count": 2,
      "outputs": [
        {
          "output_type": "stream",
          "name": "stdout",
          "text": [
            "(60000, 28, 28, 1)\n",
            "Model: \"sequential\"\n",
            "_________________________________________________________________\n",
            "Layer (type)                 Output Shape              Param #   \n",
            "=================================================================\n",
            "conv2d (Conv2D)              (None, 26, 26, 32)        320       \n",
            "_________________________________________________________________\n",
            "conv2d_1 (Conv2D)            (None, 24, 24, 64)        18496     \n",
            "_________________________________________________________________\n",
            "max_pooling2d (MaxPooling2D) (None, 12, 12, 64)        0         \n",
            "_________________________________________________________________\n",
            "dropout (Dropout)            (None, 12, 12, 64)        0         \n",
            "_________________________________________________________________\n",
            "flatten (Flatten)            (None, 9216)              0         \n",
            "_________________________________________________________________\n",
            "dense (Dense)                (None, 128)               1179776   \n",
            "_________________________________________________________________\n",
            "dropout_1 (Dropout)          (None, 128)               0         \n",
            "_________________________________________________________________\n",
            "dense_1 (Dense)              (None, 10)                1290      \n",
            "=================================================================\n",
            "Total params: 1,199,882\n",
            "Trainable params: 1,199,882\n",
            "Non-trainable params: 0\n",
            "_________________________________________________________________\n"
          ]
        }
      ]
    },
    {
      "cell_type": "code",
      "metadata": {
        "id": "XbIT5WCmdPCy",
        "colab": {
          "base_uri": "https://localhost:8080/"
        },
        "outputId": "e1c7795a-370f-4c81-96f0-8646bfd45e21"
      },
      "source": [
        "history = train(model)"
      ],
      "execution_count": 3,
      "outputs": [
        {
          "output_type": "stream",
          "name": "stdout",
          "text": [
            "Epoch 1/10\n",
            "211/211 [==============================] - 7s 25ms/step - loss: 0.3251 - acc: 0.9010 - mse: 0.0145 - val_loss: 0.0595 - val_acc: 0.9835 - val_mse: 0.0025\n",
            "Epoch 2/10\n",
            "211/211 [==============================] - 5s 23ms/step - loss: 0.0956 - acc: 0.9712 - mse: 0.0045 - val_loss: 0.0440 - val_acc: 0.9877 - val_mse: 0.0019\n",
            "Epoch 3/10\n",
            "211/211 [==============================] - 5s 24ms/step - loss: 0.0718 - acc: 0.9787 - mse: 0.0033 - val_loss: 0.0393 - val_acc: 0.9880 - val_mse: 0.0017\n",
            "Epoch 4/10\n",
            "211/211 [==============================] - 5s 23ms/step - loss: 0.0581 - acc: 0.9819 - mse: 0.0028 - val_loss: 0.0339 - val_acc: 0.9913 - val_mse: 0.0014\n",
            "Epoch 5/10\n",
            "211/211 [==============================] - 5s 23ms/step - loss: 0.0474 - acc: 0.9851 - mse: 0.0023 - val_loss: 0.0387 - val_acc: 0.9902 - val_mse: 0.0015\n",
            "Epoch 6/10\n",
            "211/211 [==============================] - 5s 23ms/step - loss: 0.0411 - acc: 0.9871 - mse: 0.0020 - val_loss: 0.0327 - val_acc: 0.9917 - val_mse: 0.0013\n",
            "Epoch 7/10\n",
            "211/211 [==============================] - 5s 23ms/step - loss: 0.0386 - acc: 0.9878 - mse: 0.0019 - val_loss: 0.0350 - val_acc: 0.9908 - val_mse: 0.0015\n",
            "Epoch 8/10\n",
            "211/211 [==============================] - 5s 23ms/step - loss: 0.0324 - acc: 0.9894 - mse: 0.0016 - val_loss: 0.0335 - val_acc: 0.9913 - val_mse: 0.0013\n",
            "Epoch 9/10\n",
            "211/211 [==============================] - 5s 24ms/step - loss: 0.0304 - acc: 0.9898 - mse: 0.0016 - val_loss: 0.0383 - val_acc: 0.9910 - val_mse: 0.0014\n",
            "Epoch 10/10\n",
            "211/211 [==============================] - 5s 23ms/step - loss: 0.0261 - acc: 0.9915 - mse: 0.0013 - val_loss: 0.0349 - val_acc: 0.9917 - val_mse: 0.0013\n"
          ]
        }
      ]
    },
    {
      "cell_type": "code",
      "metadata": {
        "id": "QpXMxy6HVU3P",
        "colab": {
          "base_uri": "https://localhost:8080/",
          "height": 336
        },
        "outputId": "4aa71cfc-5e6e-43d3-d4bc-5f72e04e7618"
      },
      "source": [
        "%matplotlib inline\n",
        "import matplotlib.pyplot as plt\n",
        "\n",
        "\n",
        "def plots(epochs , history):\n",
        "    fig,ax = plt.subplots(1,2)\n",
        "    fig.set_size_inches((12,5))\n",
        "    ax[0].plot(epochs, history['acc'] , 'g' , label = 'Train acc')\n",
        "    ax[0].plot(epochs, history['val_acc'],'m',label = 'Val acc')\n",
        "    ax[0].set_title('Accuracy History ')\n",
        "    ax[0].legend()\n",
        "\n",
        "    ax[1].plot(epochs, history['loss'] , 'r',label = 'Train loss')\n",
        "    ax[1].plot(epochs, history['val_loss'],'c',label = 'Val loss')\n",
        "    ax[1].set_title('Loss History ')\n",
        "    ax[1].legend()\n",
        "\n",
        "    fig.show()\n",
        "\n",
        "\n",
        "epochs = range(1,11)\n",
        "plots(epochs,history)\n",
        "\n",
        "\n",
        "\n"
      ],
      "execution_count": 8,
      "outputs": [
        {
          "output_type": "display_data",
          "data": {
            "image/png": "[encoded data removed]",
            "text/plain": [
              "<Figure size 864x360 with 2 Axes>"
            ]
          },
          "metadata": {
            "needs_background": "light"
          }
        }
      ]
    },
    {
      "cell_type": "code",
      "metadata": {
        "colab": {
          "base_uri": "https://localhost:8080/"
        },
        "id": "w24v5MItDQ_F",
        "outputId": "0662a6df-c5b8-46e0-b8d6-ac6059143c68"
      },
      "source": [
        "acc = score(model)\n",
        "print(f' Test Score [Accuracy]: {acc[1]*100:.2f}%')"
      ],
      "execution_count": 9,
      "outputs": [
        {
          "output_type": "stream",
          "name": "stdout",
          "text": [
            " Test Score [Accuracy]: 99.09%\n"
          ]
        }
      ]
    }
  ]
}