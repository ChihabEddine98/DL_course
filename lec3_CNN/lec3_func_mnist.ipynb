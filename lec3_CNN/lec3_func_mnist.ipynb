{
  "nbformat": 4,
  "nbformat_minor": 0,
  "metadata": {
    "colab": {
      "name": "lec3_func_mnist.ipynb",
      "provenance": [],
      "collapsed_sections": []
    },
    "kernelspec": {
      "name": "python3",
      "display_name": "Python 3"
    },
    "language_info": {
      "name": "python"
    },
    "accelerator": "GPU"
  },
  "cells": [
    {
      "cell_type": "code",
      "metadata": {
        "id": "-bcz4K9ZUYYe"
      },
      "source": [
        "%matplotlib inline\n",
        "# Imports \n",
        "import tensorflow as tf\n",
        "from keras.datasets import mnist\n",
        "from keras.layers import Dense, Flatten, Dropout,MaxPooling2D\n",
        "from keras.layers import Conv2D\n",
        "from tensorflow.keras.utils import to_categorical,plot_model\n",
        "from keras import Input , Model\n",
        "import matplotlib.pyplot as plt\n",
        "\n",
        "# the data, shuffled and split between train and test sets\n",
        "(x_train, y_train), (x_test, y_test) = mnist.load_data()"
      ],
      "execution_count": 1,
      "outputs": []
    },
    {
      "cell_type": "code",
      "metadata": {
        "id": "cWZG9iFiUp1G"
      },
      "source": [
        "# Make input daat from 0 to 1\n",
        "x_train = x_train.reshape(60000,28,28,1).astype(\"float32\") / 255.0\n",
        "x_test = x_test.reshape(10000,28,28,1).astype(\"float32\") / 255.0\n",
        "\n",
        "# convert class vectors to binary class matrices\n",
        "y_train = to_categorical(y_train, 10)\n",
        "y_test = to_categorical(y_test, 10)\n",
        "\n",
        "\n",
        "def FUNC_CNN(input_shape):\n",
        "  inputs = Input(shape = input_shape , name = 'Digit image')\n",
        "  x = Conv2D(32, kernel_size = (3,3) , activation = 'relu')(inputs)\n",
        "  x = Conv2D(64, kernel_size = (3,3) , activation = 'relu')(x)\n",
        "  x = MaxPooling2D(pool_size = (2,2))(x)\n",
        "  x = Dropout(0.2)(x)\n",
        "  x = Flatten()(x)\n",
        "  x = Dense(64, activation = 'relu')(x)\n",
        "  x = Dropout(0.5)(x)\n",
        "  outputs = Dense(10, activation = 'softmax')(x)\n",
        "\n",
        "  model = Model(inputs=inputs, outputs=outputs , name='mnist_cnn_model')\n",
        "  plot_model(model, 'mnist_cnn_model.png', show_shapes=True)\n",
        "  model.compile(loss = 'categorical_crossentropy', optimizer= 'rmsprop',metrics =['acc' , 'mse'])\n",
        "  return model\n",
        "\n",
        "\n",
        "def train(model):\n",
        "  with tf.device('/device:GPU:0'):\n",
        "      history = model.fit(x_train,y_train ,\n",
        "                          batch_size = 64,\n",
        "                          epochs = 10,\n",
        "                          verbose = 1,\n",
        "                          validation_split = 0.2)\n",
        "            \n",
        "  return history.history"
      ],
      "execution_count": 2,
      "outputs": []
    },
    {
      "cell_type": "code",
      "metadata": {
        "colab": {
          "base_uri": "https://localhost:8080/"
        },
        "id": "HgKI5CwUXBuG",
        "outputId": "f3e24e01-1107-4ee0-aa2a-c4f592468481"
      },
      "source": [
        "model = FUNC_CNN(input_shape = (28,28,1))\n",
        "history = train(model)"
      ],
      "execution_count": 3,
      "outputs": [
        {
          "output_type": "stream",
          "name": "stdout",
          "text": [
            "Epoch 1/10\n",
            "750/750 [==============================] - 42s 16ms/step - loss: 0.2943 - acc: 0.9107 - mse: 0.0131 - val_loss: 0.0726 - val_acc: 0.9790 - val_mse: 0.0032\n",
            "Epoch 2/10\n",
            "750/750 [==============================] - 11s 15ms/step - loss: 0.1202 - acc: 0.9654 - mse: 0.0053 - val_loss: 0.0559 - val_acc: 0.9829 - val_mse: 0.0026\n",
            "Epoch 3/10\n",
            "750/750 [==============================] - 11s 15ms/step - loss: 0.0967 - acc: 0.9728 - mse: 0.0043 - val_loss: 0.0496 - val_acc: 0.9859 - val_mse: 0.0022\n",
            "Epoch 4/10\n",
            "750/750 [==============================] - 11s 15ms/step - loss: 0.0861 - acc: 0.9755 - mse: 0.0039 - val_loss: 0.0550 - val_acc: 0.9847 - val_mse: 0.0024\n",
            "Epoch 5/10\n",
            "750/750 [==============================] - 11s 15ms/step - loss: 0.0869 - acc: 0.9760 - mse: 0.0038 - val_loss: 0.0567 - val_acc: 0.9855 - val_mse: 0.0024\n",
            "Epoch 6/10\n",
            "750/750 [==============================] - 11s 15ms/step - loss: 0.0879 - acc: 0.9755 - mse: 0.0039 - val_loss: 0.0644 - val_acc: 0.9850 - val_mse: 0.0024\n",
            "Epoch 7/10\n",
            "750/750 [==============================] - 11s 15ms/step - loss: 0.0911 - acc: 0.9755 - mse: 0.0039 - val_loss: 0.0526 - val_acc: 0.9872 - val_mse: 0.0021\n",
            "Epoch 8/10\n",
            "750/750 [==============================] - 11s 15ms/step - loss: 0.0963 - acc: 0.9752 - mse: 0.0040 - val_loss: 0.0562 - val_acc: 0.9866 - val_mse: 0.0022\n",
            "Epoch 9/10\n",
            "750/750 [==============================] - 11s 15ms/step - loss: 0.0957 - acc: 0.9743 - mse: 0.0041 - val_loss: 0.0554 - val_acc: 0.9853 - val_mse: 0.0024\n",
            "Epoch 10/10\n",
            "750/750 [==============================] - 11s 15ms/step - loss: 0.1018 - acc: 0.9739 - mse: 0.0043 - val_loss: 0.0617 - val_acc: 0.9836 - val_mse: 0.0025\n"
          ]
        }
      ]
    },
    {
      "cell_type": "code",
      "metadata": {
        "colab": {
          "base_uri": "https://localhost:8080/",
          "height": 336
        },
        "id": "Pf4If3j3XYzd",
        "outputId": "7a2c5a2a-739e-4148-9176-b38bf2f368d6"
      },
      "source": [
        "def plots(epochs , history):\n",
        "    fig,ax = plt.subplots(1,2)\n",
        "    fig.set_size_inches((12,5))\n",
        "    ax[0].plot(epochs, history['acc'] , 'g' , label = 'Train acc')\n",
        "    ax[0].plot(epochs, history['val_acc'],'m',label = 'Val acc')\n",
        "    ax[0].set_title('Accuracy History ')\n",
        "    ax[0].legend()\n",
        "\n",
        "    ax[1].plot(epochs, history['loss'] , 'r',label = 'Train loss')\n",
        "    ax[1].plot(epochs, history['val_loss'],'c',label = 'Val loss')\n",
        "    ax[1].set_title('Loss History ')\n",
        "    ax[1].legend()\n",
        "\n",
        "    fig.show()\n",
        "\n",
        "\n",
        "epochs = range(1,11)\n",
        "plots(epochs,history)"
      ],
      "execution_count": 4,
      "outputs": [
        {
          "output_type": "display_data",
          "data": {
            "image/png": "[encoded data removed]",
            "text/plain": [
              "<Figure size 864x360 with 2 Axes>"
            ]
          },
          "metadata": {
            "needs_background": "light"
          }
        }
      ]
    },
    {
      "cell_type": "code",
      "metadata": {
        "colab": {
          "base_uri": "https://localhost:8080/"
        },
        "id": "nyqWa4ViXjKw",
        "outputId": "01a43d89-9eee-4e99-deb9-c92cc96ea8e3"
      },
      "source": [
        "acc = model.evaluate(x_test,y_test)\n",
        "print(f' Test Score [Accuracy]: {acc[1]*100:.2f}%')"
      ],
      "execution_count": 5,
      "outputs": [
        {
          "output_type": "stream",
          "name": "stdout",
          "text": [
            "313/313 [==============================] - 2s 5ms/step - loss: 0.0513 - acc: 0.9856 - mse: 0.0023\n",
            " Test Score [Accuracy]: 98.56%\n"
          ]
        }
      ]
    }
  ]
}