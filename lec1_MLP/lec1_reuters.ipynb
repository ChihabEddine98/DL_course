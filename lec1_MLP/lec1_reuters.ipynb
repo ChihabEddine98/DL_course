{
  "nbformat": 4,
  "nbformat_minor": 0,
  "metadata": {
    "kernelspec": {
      "display_name": "Python 3",
      "language": "python",
      "name": "python3"
    },
    "language_info": {
      "codemirror_mode": {
        "name": "ipython",
        "version": 2
      },
      "file_extension": ".py",
      "mimetype": "text/x-python",
      "name": "python",
      "nbconvert_exporter": "python",
      "pygments_lexer": "ipython2",
      "version": "2.7.6"
    },
    "colab": {
      "name": "lec1_reuters.ipynb",
      "provenance": [],
      "include_colab_link": true
    },
    "accelerator": "GPU"
  },
  "cells": [
    {
      "cell_type": "markdown",
      "metadata": {
        "id": "view-in-github",
        "colab_type": "text"
      },
      "source": [
        "<a href=\"https://colab.research.google.com/github/ChihabEddine98/DL_course/blob/main/lec1_reuters.ipynb\" target=\"_parent\"><img src=\"https://colab.research.google.com/assets/colab-badge.svg\" alt=\"Open In Colab\"/></a>"
      ]
    },
    {
      "cell_type": "code",
      "metadata": {
        "collapsed": true,
        "pycharm": {
          "is_executing": true
        },
        "id": "XxcgHRMtb2BR"
      },
      "source": [
        "# Imports\n",
        "import tensorflow as tf\n",
        "import numpy as np\n",
        "from tensorflow import keras\n",
        "from tensorflow.keras.datasets import reuters\n",
        "from sklearn.model_selection import train_test_split\n"
      ],
      "execution_count": 1,
      "outputs": []
    },
    {
      "cell_type": "code",
      "metadata": {
        "pycharm": {
          "name": "#%%\n"
        },
        "colab": {
          "base_uri": "https://localhost:8080/"
        },
        "id": "COccZkQkb2BT",
        "outputId": "9380cdb4-34ea-422a-dad9-fa3b08d4415e"
      },
      "source": [
        "# data load\n",
        "(train_data, train_labels), (test_data, test_labels) = reuters.load_data(num_words=10000)\n"
      ],
      "execution_count": 2,
      "outputs": [
        {
          "output_type": "stream",
          "name": "stdout",
          "text": [
            "Downloading data from https://storage.googleapis.com/tensorflow/tf-keras-datasets/reuters.npz\n",
            "2113536/2110848 [==============================] - 0s 0us/step\n",
            "2121728/2110848 [==============================] - 0s 0us/step\n"
          ]
        }
      ]
    },
    {
      "cell_type": "code",
      "metadata": {
        "pycharm": {
          "name": "#%%\n"
        },
        "id": "RHD98grAb2BT"
      },
      "source": [
        "def vectorize_sequences(sequences, dimension=10000):\n",
        "    results = np.zeros((len(sequences), dimension))\n",
        "    for i in range (len (sequences)):\n",
        "        for j in range (len (sequences [i])):\n",
        "            results [i] [sequences [i] [j]] = 1.\n",
        "    return results\n"
      ],
      "execution_count": 3,
      "outputs": []
    },
    {
      "cell_type": "code",
      "metadata": {
        "pycharm": {
          "name": "#%%\n"
        },
        "id": "jaYsFkmAb2BU"
      },
      "source": [
        "from tensorflow.keras.utils import to_categorical\n",
        "# Data Prepro\n",
        "x_train = vectorize_sequences(train_data)\n",
        "x_test = vectorize_sequences(test_data)\n",
        "y_train = to_categorical(train_labels)\n",
        "y_test = to_categorical(test_labels)"
      ],
      "execution_count": 12,
      "outputs": []
    },
    {
      "cell_type": "code",
      "metadata": {
        "pycharm": {
          "name": "#%%\n"
        },
        "colab": {
          "base_uri": "https://localhost:8080/"
        },
        "id": "vFmhZKdlb2BU",
        "outputId": "a44ba289-23db-4b7b-d384-9bc3a3defaba"
      },
      "source": [
        "# Validation set Split\n",
        "print(x_train.shape)\n",
        "x_train,x_val ,y_train, y_val = train_test_split(x_train,y_train,test_size = 0.3)\n",
        "print(x_train.shape)"
      ],
      "execution_count": 13,
      "outputs": [
        {
          "output_type": "stream",
          "name": "stdout",
          "text": [
            "(8982, 10000)\n",
            "(6287, 10000)\n"
          ]
        }
      ]
    },
    {
      "cell_type": "code",
      "metadata": {
        "id": "XA4AKA__b6ad"
      },
      "source": [
        "# Model Settings\n",
        "model = keras.Sequential(keras.layers.Dense(64,activation = 'relu' , input_shape = (x_train.shape[1],)))\n",
        "model.add(keras.layers.Dense(64,activation = 'relu'))\n",
        "model.add(keras.layers.Dense(46,activation = 'softmax'))\n",
        "\n",
        "\n",
        "model.compile(loss = 'categorical_crossentropy' , optimizer = 'rmsprop' , metrics=['acc'])\n",
        "\n"
      ],
      "execution_count": 14,
      "outputs": []
    },
    {
      "cell_type": "code",
      "metadata": {
        "id": "StzaNQOhc2E6"
      },
      "source": [
        "# Train the model\n",
        "\n",
        "def train(model):\n",
        "    with tf.device('/device:GPU:0'):\n",
        "       history = model.fit(x_train,y_train,\n",
        "                        epochs = 20,\n",
        "                        batch_size = 512,\n",
        "                        validation_data = (x_val,y_val)\n",
        "                        )\n",
        "    return history"
      ],
      "execution_count": 15,
      "outputs": []
    },
    {
      "cell_type": "code",
      "metadata": {
        "colab": {
          "base_uri": "https://localhost:8080/"
        },
        "id": "xLZnoqUDc_RO",
        "outputId": "376e0936-4b06-42c9-fac5-6e435f3cce97"
      },
      "source": [
        "# Train the model \n",
        "history_1 = train(model)"
      ],
      "execution_count": 16,
      "outputs": [
        {
          "output_type": "stream",
          "name": "stdout",
          "text": [
            "Epoch 1/20\n",
            "13/13 [==============================] - 3s 46ms/step - loss: 2.7862 - acc: 0.4800 - val_loss: 1.9542 - val_acc: 0.6007\n",
            "Epoch 2/20\n",
            "13/13 [==============================] - 0s 21ms/step - loss: 1.5074 - acc: 0.6911 - val_loss: 1.5016 - val_acc: 0.6798\n",
            "Epoch 3/20\n",
            "13/13 [==============================] - 0s 19ms/step - loss: 1.1199 - acc: 0.7620 - val_loss: 1.3278 - val_acc: 0.7087\n",
            "Epoch 4/20\n",
            "13/13 [==============================] - 0s 21ms/step - loss: 0.8818 - acc: 0.8160 - val_loss: 1.2311 - val_acc: 0.7351\n",
            "Epoch 5/20\n",
            "13/13 [==============================] - 0s 20ms/step - loss: 0.7029 - acc: 0.8576 - val_loss: 1.1583 - val_acc: 0.7570\n",
            "Epoch 6/20\n",
            "13/13 [==============================] - 0s 19ms/step - loss: 0.5605 - acc: 0.8880 - val_loss: 1.1397 - val_acc: 0.7447\n",
            "Epoch 7/20\n",
            "13/13 [==============================] - 0s 27ms/step - loss: 0.4493 - acc: 0.9093 - val_loss: 1.0445 - val_acc: 0.7848\n",
            "Epoch 8/20\n",
            "13/13 [==============================] - 0s 21ms/step - loss: 0.3613 - acc: 0.9326 - val_loss: 1.0920 - val_acc: 0.7636\n",
            "Epoch 9/20\n",
            "13/13 [==============================] - 0s 20ms/step - loss: 0.2986 - acc: 0.9410 - val_loss: 1.0760 - val_acc: 0.7740\n",
            "Epoch 10/20\n",
            "13/13 [==============================] - 0s 21ms/step - loss: 0.2415 - acc: 0.9485 - val_loss: 1.0547 - val_acc: 0.7866\n",
            "Epoch 11/20\n",
            "13/13 [==============================] - 0s 19ms/step - loss: 0.2060 - acc: 0.9548 - val_loss: 1.1786 - val_acc: 0.7607\n",
            "Epoch 12/20\n",
            "13/13 [==============================] - 0s 22ms/step - loss: 0.1756 - acc: 0.9594 - val_loss: 1.0699 - val_acc: 0.7840\n",
            "Epoch 13/20\n",
            "13/13 [==============================] - 0s 20ms/step - loss: 0.1535 - acc: 0.9620 - val_loss: 1.0537 - val_acc: 0.7907\n",
            "Epoch 14/20\n",
            "13/13 [==============================] - 0s 21ms/step - loss: 0.1379 - acc: 0.9621 - val_loss: 1.2057 - val_acc: 0.7647\n",
            "Epoch 15/20\n",
            "13/13 [==============================] - 0s 20ms/step - loss: 0.1245 - acc: 0.9648 - val_loss: 1.1610 - val_acc: 0.7788\n",
            "Epoch 16/20\n",
            "13/13 [==============================] - 0s 19ms/step - loss: 0.1149 - acc: 0.9645 - val_loss: 1.2597 - val_acc: 0.7666\n",
            "Epoch 17/20\n",
            "13/13 [==============================] - 0s 21ms/step - loss: 0.1094 - acc: 0.9648 - val_loss: 1.1856 - val_acc: 0.7848\n",
            "Epoch 18/20\n",
            "13/13 [==============================] - 0s 20ms/step - loss: 0.1014 - acc: 0.9658 - val_loss: 1.1858 - val_acc: 0.7874\n",
            "Epoch 19/20\n",
            "13/13 [==============================] - 0s 21ms/step - loss: 0.1001 - acc: 0.9658 - val_loss: 1.2587 - val_acc: 0.7744\n",
            "Epoch 20/20\n",
            "13/13 [==============================] - 0s 20ms/step - loss: 0.0945 - acc: 0.9647 - val_loss: 1.2983 - val_acc: 0.7774\n"
          ]
        }
      ]
    },
    {
      "cell_type": "code",
      "metadata": {
        "colab": {
          "base_uri": "https://localhost:8080/",
          "height": 295
        },
        "id": "6Tqh1ziFdBiE",
        "outputId": "5949d4e6-a670-432a-c65b-a057cebf6f92"
      },
      "source": [
        "import matplotlib.pyplot as plt\n",
        "\n",
        "\n",
        "history_dict = history_1.history\n",
        "loss_values = history_dict['loss']\n",
        "val_loss_values = history_dict['val_loss']\n",
        "epochs = range(1, len(loss_values) + 1)\n",
        "plt.plot(epochs, loss_values, 'r', label='Training loss')\n",
        "plt.plot(epochs, val_loss_values, 'b', label='Validation loss')\n",
        "plt.title('Training and validation loss')\n",
        "plt.xlabel('Epochs')\n",
        "plt.ylabel('Loss')\n",
        "plt.legend()\n",
        "plt.show()"
      ],
      "execution_count": 17,
      "outputs": [
        {
          "output_type": "display_data",
          "data": {
            "image/png": "[encoded data removed]",
            "text/plain": [
              "<Figure size 432x288 with 1 Axes>"
            ]
          },
          "metadata": {
            "needs_background": "light"
          }
        }
      ]
    },
    {
      "cell_type": "code",
      "metadata": {
        "id": "XXXIVLwweboG"
      },
      "source": [
        ""
      ],
      "execution_count": null,
      "outputs": []
    }
  ]
}